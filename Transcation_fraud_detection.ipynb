{
  "metadata": {
    "kernelspec": {
      "language": "python",
      "display_name": "Python 3",
      "name": "python3"
    },
    "language_info": {
      "name": "python",
      "version": "3.7.12",
      "mimetype": "text/x-python",
      "codemirror_mode": {
        "name": "ipython",
        "version": 3
      },
      "pygments_lexer": "ipython3",
      "nbconvert_exporter": "python",
      "file_extension": ".py"
    },
    "colab": {
      "provenance": [],
      "include_colab_link": true
    }
  },
  "nbformat_minor": 0,
  "nbformat": 4,
  "cells": [
    {
      "cell_type": "markdown",
      "metadata": {
        "id": "view-in-github",
        "colab_type": "text"
      },
      "source": [
        "<a href=\"https://colab.research.google.com/github/RozminWaghu99/Transaction_Fraud_Detection/blob/main/Transcation_fraud_detection.ipynb\" target=\"_parent\"><img src=\"https://colab.research.google.com/assets/colab-badge.svg\" alt=\"Open In Colab\"/></a>"
      ]
    },
    {
      "cell_type": "code",
      "source": [
        "# This Python 3 environment comes with many helpful analytics libraries installed\n",
        "# It is defined by the kaggle/python Docker image: https://github.com/kaggle/docker-python\n",
        "# For example, here's several helpful packages to load\n",
        "\n",
        "import numpy as np # linear algebra\n",
        "import pandas as pd # data processing, CSV file I/O (e.g. pd.read_csv)\n",
        "\n",
        "# Input data files are available in the read-only \"../input/\" directory\n",
        "# For example, running this (by clicking run or pressing Shift+Enter) will list all files under the input directory\n",
        "\n",
        "import os\n",
        "for dirname, _, filenames in os.walk('/kaggle/input'):\n",
        "    for filename in filenames:\n",
        "        print(os.path.join(dirname, filename))\n",
        "\n",
        "# You can write up to 20GB to the current directory (/kaggle/working/) that gets preserved as output when you create a version using \"Save & Run All\" \n",
        "# You can also write temporary files to /kaggle/temp/, but they won't be saved outside of the current session"
      ],
      "metadata": {
        "_uuid": "8f2839f25d086af736a60e9eeb907d3b93b6e0e5",
        "_cell_guid": "b1076dfc-b9ad-4769-8c92-a6c4dae69d19",
        "execution": {
          "iopub.status.busy": "2023-01-02T13:34:19.541088Z",
          "iopub.execute_input": "2023-01-02T13:34:19.541655Z",
          "iopub.status.idle": "2023-01-02T13:34:19.584356Z",
          "shell.execute_reply.started": "2023-01-02T13:34:19.541552Z",
          "shell.execute_reply": "2023-01-02T13:34:19.582986Z"
        },
        "trusted": true,
        "id": "LQeldWETwA9R"
      },
      "execution_count": 36,
      "outputs": []
    },
    {
      "cell_type": "markdown",
      "source": [
        "# Transcation Fraud Detection¶\n",
        "Problem Formulation\n",
        "Due to the private nature of financial data, there is a lack of publicly available datasets that can be used for analysis. In this project, a synthetic dataset, publicly available on Kaggle, generated using a simulator called PaySim is used. The dataset was generated using aggregated metrics from the private dataset of a multinational mobile financial services company.\n",
        "\n",
        "There are 6362620 instances of data set, The data set has 11 attributes which include is\n",
        "\n",
        "Type of transactions\n",
        "Amount transacted\n",
        "Customer ID and Recipient ID\n",
        "Old and New balance of Customer and Recipient\n",
        "Time step of the transaction\n",
        "Whether the transaction was fraudulent or not\n",
        "\n",
        "# Problem Statement\n",
        "Leverage the given data set to build an End-to-End Data Science Project and find whether a transaction is Fradulent or not.\n",
        "\n",
        "# Hypothesis Generation\n",
        "This is one of the important stages in any Data Science/Machine Learning pipeline. It involves understanding the problem in detail by brainstorming as many factors as possible which can impact the outcome. It is done by understanding the problem statement thoroughly and before looking at the data.\n",
        "\n",
        "Below are some of the factors which I think can highly affect the target i.e. Fraudulent transaction:\n",
        "\n",
        "Type of transaction: Based on the type (mode) of payment might impact the fradulent transaction.\n",
        "\n",
        "Amount: The amount of transaction can decide the transaction is fradulent or not, we can find unusual activities through the amount of transaction.\n",
        "\n",
        "Initial Balance and Balance left: By comparing account balances before the transcation and after transaction we might able to find whether there is unusual activity is happened or not"
      ],
      "metadata": {
        "id": "2yXiBmo0wA-D"
      }
    },
    {
      "cell_type": "markdown",
      "source": [
        "# Dataset description\n",
        "* step - maps a unit of time in the real world. In this case 1 step is 1 hour of time. Total steps 744 (30 days simulation).\n",
        "* type - CASH-IN, CASH-OUT, DEBIT, PAYMENT and TRANSFER.\n",
        "* amount - amount of the transaction in local currency.\n",
        "* nameOrig - customer who started the transaction\n",
        "* oldbalanceOrg - initial balance before the transaction\n",
        "* newbalanceOrig - new balance after the transaction\n",
        "* nameDest - customer who is the recipient of the transaction\n",
        "* oldbalanceDest - initial balance recipient before the transaction. Note that there is not information for customers that start with M (Merchants).\n",
        "* newbalanceDest - new balance recipient after the transaction. Note that there is not information for customers that start with M (Merchants).\n",
        "* isFraud - This is the transactions made by the fraudulent agents inside the simulation. In this specific dataset the fraudulent behavior of the agents aims to profit by taking control or customers accounts and try to empty the funds by transferring to another account and then cashing out of the system.\n",
        "* isFlaggedFraud - The business model aims to control massive transfers from one account to another and flags illegal attempts. An illegal attempt in this dataset is an attempt to transfer more than 200.000 in a single transaction."
      ],
      "metadata": {
        "id": "YSGONCjowA-I"
      }
    },
    {
      "cell_type": "markdown",
      "source": [
        "# Importing Library"
      ],
      "metadata": {
        "id": "uk8dwq5KwA-K"
      }
    },
    {
      "cell_type": "code",
      "source": [
        "import math\n",
        "import numpy as np\n",
        "import pandas as pd\n",
        "from mlxtend.preprocessing import minmax_scaling\n",
        "from scipy import stats as st\n",
        "\n",
        "\n",
        "import time\n",
        "from sklearn.preprocessing import StandardScaler\n",
        "from sklearn.model_selection import train_test_split\n",
        "#Visualization libraries\n",
        "import seaborn as sns\n",
        "sns.set_style(\"whitegrid\")\n",
        "sns.set_context({\"figure.figsize\": (15, 7.5)})\n",
        "\n",
        "import matplotlib.pyplot as plt\n",
        "import plotly.express as px\n",
        "import plotly.graph_objects as go\n",
        "from plotly.offline import plot, iplot, init_notebook_mode\n",
        "init_notebook_mode(connected=True)\n",
        "%matplotlib inline\n",
        "\n",
        "import datetime\n",
        "from sklearn.model_selection import train_test_split\n",
        "from sklearn.ensemble import RandomForestClassifier\n",
        "from sklearn.preprocessing import LabelEncoder\n",
        "\n",
        "from sklearn.naive_bayes import GaussianNB\n",
        "from sklearn.tree import DecisionTreeClassifier\n",
        "from sklearn.linear_model import LogisticRegression\n",
        "#for accuracy\n",
        "from sklearn.metrics import mean_squared_error\n",
        "from sklearn.metrics import mean_absolute_error\n",
        "from sklearn.model_selection import cross_val_score, cross_val_predict\n",
        "from sklearn.metrics import recall_score, precision_score, f1_score, make_scorer\n",
        "from sklearn.metrics import confusion_matrix, accuracy_score, roc_auc_score\n",
        "from sklearn.metrics import  ConfusionMatrixDisplay\n",
        "import plotly.express as px\n",
        "#handling imbalanced data\n",
        "from imblearn.over_sampling import SMOTE\n",
        "#best top 10 featur\n",
        "from sklearn.metrics import plot_confusion_matrix, classification_report, plot_roc_curve\n",
        "#saved\n",
        "import pickle\n",
        "import warnings\n",
        "warnings.filterwarnings('ignore')\n",
        "#mount google drive\n",
        "from google.colab import drive\n",
        "drive.mount('/content/drive')"
      ],
      "metadata": {
        "execution": {
          "iopub.status.busy": "2023-01-02T13:34:19.586102Z",
          "iopub.execute_input": "2023-01-02T13:34:19.586838Z",
          "iopub.status.idle": "2023-01-02T13:34:22.406860Z",
          "shell.execute_reply.started": "2023-01-02T13:34:19.586796Z",
          "shell.execute_reply": "2023-01-02T13:34:22.405740Z"
        },
        "trusted": true,
        "colab": {
          "base_uri": "https://localhost:8080/",
          "height": 34
        },
        "id": "bB0aUicuwA-L",
        "outputId": "608852bb-2893-4ee7-b1d0-18a6aa522a08"
      },
      "execution_count": 37,
      "outputs": [
        {
          "output_type": "display_data",
          "data": {
            "text/html": [
              "        <script type=\"text/javascript\">\n",
              "        window.PlotlyConfig = {MathJaxConfig: 'local'};\n",
              "        if (window.MathJax) {MathJax.Hub.Config({SVG: {font: \"STIX-Web\"}});}\n",
              "        if (typeof require !== 'undefined') {\n",
              "        require.undef(\"plotly\");\n",
              "        requirejs.config({\n",
              "            paths: {\n",
              "                'plotly': ['https://cdn.plot.ly/plotly-2.8.3.min']\n",
              "            }\n",
              "        });\n",
              "        require(['plotly'], function(Plotly) {\n",
              "            window._Plotly = Plotly;\n",
              "        });\n",
              "        }\n",
              "        </script>\n",
              "        "
            ]
          },
          "metadata": {}
        },
        {
          "output_type": "stream",
          "name": "stdout",
          "text": [
            "Drive already mounted at /content/drive; to attempt to forcibly remount, call drive.mount(\"/content/drive\", force_remount=True).\n"
          ]
        }
      ]
    },
    {
      "cell_type": "markdown",
      "source": [
        "# Inspecting Fraud Data base"
      ],
      "metadata": {
        "id": "t96X5noWwA-O"
      }
    },
    {
      "cell_type": "code",
      "source": [
        "#Input (preserve original data in case we need to refer back to it at any point)\n",
        "data = pd.read_csv(\"/content/drive/MyDrive/Colab Notebooks/ML Project/Transaction Fraud Detection/PS_20174392719_1491204439457_log.csv\")\n",
        "pd.set_option(\"display.max_columns\", len(data.columns))\n",
        "data.head()"
      ],
      "metadata": {
        "execution": {
          "iopub.status.busy": "2023-01-02T13:34:22.407890Z",
          "iopub.execute_input": "2023-01-02T13:34:22.408913Z",
          "iopub.status.idle": "2023-01-02T13:34:45.822296Z",
          "shell.execute_reply.started": "2023-01-02T13:34:22.408880Z",
          "shell.execute_reply": "2023-01-02T13:34:45.821414Z"
        },
        "trusted": true,
        "colab": {
          "base_uri": "https://localhost:8080/",
          "height": 206
        },
        "id": "HAO4TvkxwA-P",
        "outputId": "c81bbbfa-dd2a-457d-e3b8-0f1ade4c6a9f"
      },
      "execution_count": 73,
      "outputs": [
        {
          "output_type": "execute_result",
          "data": {
            "text/plain": [
              "   step      type    amount     nameOrig  oldbalanceOrg  newbalanceOrig  \\\n",
              "0     1   PAYMENT   9839.64  C1231006815       170136.0       160296.36   \n",
              "1     1   PAYMENT   1864.28  C1666544295        21249.0        19384.72   \n",
              "2     1  TRANSFER    181.00  C1305486145          181.0            0.00   \n",
              "3     1  CASH_OUT    181.00   C840083671          181.0            0.00   \n",
              "4     1   PAYMENT  11668.14  C2048537720        41554.0        29885.86   \n",
              "\n",
              "      nameDest  oldbalanceDest  newbalanceDest  isFraud  isFlaggedFraud  \n",
              "0  M1979787155             0.0             0.0        0               0  \n",
              "1  M2044282225             0.0             0.0        0               0  \n",
              "2   C553264065             0.0             0.0        1               0  \n",
              "3    C38997010         21182.0             0.0        1               0  \n",
              "4  M1230701703             0.0             0.0        0               0  "
            ],
            "text/html": [
              "\n",
              "  <div id=\"df-87b23cd2-9612-474c-96ed-a23fc92c165c\">\n",
              "    <div class=\"colab-df-container\">\n",
              "      <div>\n",
              "<style scoped>\n",
              "    .dataframe tbody tr th:only-of-type {\n",
              "        vertical-align: middle;\n",
              "    }\n",
              "\n",
              "    .dataframe tbody tr th {\n",
              "        vertical-align: top;\n",
              "    }\n",
              "\n",
              "    .dataframe thead th {\n",
              "        text-align: right;\n",
              "    }\n",
              "</style>\n",
              "<table border=\"1\" class=\"dataframe\">\n",
              "  <thead>\n",
              "    <tr style=\"text-align: right;\">\n",
              "      <th></th>\n",
              "      <th>step</th>\n",
              "      <th>type</th>\n",
              "      <th>amount</th>\n",
              "      <th>nameOrig</th>\n",
              "      <th>oldbalanceOrg</th>\n",
              "      <th>newbalanceOrig</th>\n",
              "      <th>nameDest</th>\n",
              "      <th>oldbalanceDest</th>\n",
              "      <th>newbalanceDest</th>\n",
              "      <th>isFraud</th>\n",
              "      <th>isFlaggedFraud</th>\n",
              "    </tr>\n",
              "  </thead>\n",
              "  <tbody>\n",
              "    <tr>\n",
              "      <th>0</th>\n",
              "      <td>1</td>\n",
              "      <td>PAYMENT</td>\n",
              "      <td>9839.64</td>\n",
              "      <td>C1231006815</td>\n",
              "      <td>170136.0</td>\n",
              "      <td>160296.36</td>\n",
              "      <td>M1979787155</td>\n",
              "      <td>0.0</td>\n",
              "      <td>0.0</td>\n",
              "      <td>0</td>\n",
              "      <td>0</td>\n",
              "    </tr>\n",
              "    <tr>\n",
              "      <th>1</th>\n",
              "      <td>1</td>\n",
              "      <td>PAYMENT</td>\n",
              "      <td>1864.28</td>\n",
              "      <td>C1666544295</td>\n",
              "      <td>21249.0</td>\n",
              "      <td>19384.72</td>\n",
              "      <td>M2044282225</td>\n",
              "      <td>0.0</td>\n",
              "      <td>0.0</td>\n",
              "      <td>0</td>\n",
              "      <td>0</td>\n",
              "    </tr>\n",
              "    <tr>\n",
              "      <th>2</th>\n",
              "      <td>1</td>\n",
              "      <td>TRANSFER</td>\n",
              "      <td>181.00</td>\n",
              "      <td>C1305486145</td>\n",
              "      <td>181.0</td>\n",
              "      <td>0.00</td>\n",
              "      <td>C553264065</td>\n",
              "      <td>0.0</td>\n",
              "      <td>0.0</td>\n",
              "      <td>1</td>\n",
              "      <td>0</td>\n",
              "    </tr>\n",
              "    <tr>\n",
              "      <th>3</th>\n",
              "      <td>1</td>\n",
              "      <td>CASH_OUT</td>\n",
              "      <td>181.00</td>\n",
              "      <td>C840083671</td>\n",
              "      <td>181.0</td>\n",
              "      <td>0.00</td>\n",
              "      <td>C38997010</td>\n",
              "      <td>21182.0</td>\n",
              "      <td>0.0</td>\n",
              "      <td>1</td>\n",
              "      <td>0</td>\n",
              "    </tr>\n",
              "    <tr>\n",
              "      <th>4</th>\n",
              "      <td>1</td>\n",
              "      <td>PAYMENT</td>\n",
              "      <td>11668.14</td>\n",
              "      <td>C2048537720</td>\n",
              "      <td>41554.0</td>\n",
              "      <td>29885.86</td>\n",
              "      <td>M1230701703</td>\n",
              "      <td>0.0</td>\n",
              "      <td>0.0</td>\n",
              "      <td>0</td>\n",
              "      <td>0</td>\n",
              "    </tr>\n",
              "  </tbody>\n",
              "</table>\n",
              "</div>\n",
              "      <button class=\"colab-df-convert\" onclick=\"convertToInteractive('df-87b23cd2-9612-474c-96ed-a23fc92c165c')\"\n",
              "              title=\"Convert this dataframe to an interactive table.\"\n",
              "              style=\"display:none;\">\n",
              "        \n",
              "  <svg xmlns=\"http://www.w3.org/2000/svg\" height=\"24px\"viewBox=\"0 0 24 24\"\n",
              "       width=\"24px\">\n",
              "    <path d=\"M0 0h24v24H0V0z\" fill=\"none\"/>\n",
              "    <path d=\"M18.56 5.44l.94 2.06.94-2.06 2.06-.94-2.06-.94-.94-2.06-.94 2.06-2.06.94zm-11 1L8.5 8.5l.94-2.06 2.06-.94-2.06-.94L8.5 2.5l-.94 2.06-2.06.94zm10 10l.94 2.06.94-2.06 2.06-.94-2.06-.94-.94-2.06-.94 2.06-2.06.94z\"/><path d=\"M17.41 7.96l-1.37-1.37c-.4-.4-.92-.59-1.43-.59-.52 0-1.04.2-1.43.59L10.3 9.45l-7.72 7.72c-.78.78-.78 2.05 0 2.83L4 21.41c.39.39.9.59 1.41.59.51 0 1.02-.2 1.41-.59l7.78-7.78 2.81-2.81c.8-.78.8-2.07 0-2.86zM5.41 20L4 18.59l7.72-7.72 1.47 1.35L5.41 20z\"/>\n",
              "  </svg>\n",
              "      </button>\n",
              "      \n",
              "  <style>\n",
              "    .colab-df-container {\n",
              "      display:flex;\n",
              "      flex-wrap:wrap;\n",
              "      gap: 12px;\n",
              "    }\n",
              "\n",
              "    .colab-df-convert {\n",
              "      background-color: #E8F0FE;\n",
              "      border: none;\n",
              "      border-radius: 50%;\n",
              "      cursor: pointer;\n",
              "      display: none;\n",
              "      fill: #1967D2;\n",
              "      height: 32px;\n",
              "      padding: 0 0 0 0;\n",
              "      width: 32px;\n",
              "    }\n",
              "\n",
              "    .colab-df-convert:hover {\n",
              "      background-color: #E2EBFA;\n",
              "      box-shadow: 0px 1px 2px rgba(60, 64, 67, 0.3), 0px 1px 3px 1px rgba(60, 64, 67, 0.15);\n",
              "      fill: #174EA6;\n",
              "    }\n",
              "\n",
              "    [theme=dark] .colab-df-convert {\n",
              "      background-color: #3B4455;\n",
              "      fill: #D2E3FC;\n",
              "    }\n",
              "\n",
              "    [theme=dark] .colab-df-convert:hover {\n",
              "      background-color: #434B5C;\n",
              "      box-shadow: 0px 1px 3px 1px rgba(0, 0, 0, 0.15);\n",
              "      filter: drop-shadow(0px 1px 2px rgba(0, 0, 0, 0.3));\n",
              "      fill: #FFFFFF;\n",
              "    }\n",
              "  </style>\n",
              "\n",
              "      <script>\n",
              "        const buttonEl =\n",
              "          document.querySelector('#df-87b23cd2-9612-474c-96ed-a23fc92c165c button.colab-df-convert');\n",
              "        buttonEl.style.display =\n",
              "          google.colab.kernel.accessAllowed ? 'block' : 'none';\n",
              "\n",
              "        async function convertToInteractive(key) {\n",
              "          const element = document.querySelector('#df-87b23cd2-9612-474c-96ed-a23fc92c165c');\n",
              "          const dataTable =\n",
              "            await google.colab.kernel.invokeFunction('convertToInteractive',\n",
              "                                                     [key], {});\n",
              "          if (!dataTable) return;\n",
              "\n",
              "          const docLinkHtml = 'Like what you see? Visit the ' +\n",
              "            '<a target=\"_blank\" href=https://colab.research.google.com/notebooks/data_table.ipynb>data table notebook</a>'\n",
              "            + ' to learn more about interactive tables.';\n",
              "          element.innerHTML = '';\n",
              "          dataTable['output_type'] = 'display_data';\n",
              "          await google.colab.output.renderOutput(dataTable, element);\n",
              "          const docLink = document.createElement('div');\n",
              "          docLink.innerHTML = docLinkHtml;\n",
              "          element.appendChild(docLink);\n",
              "        }\n",
              "      </script>\n",
              "    </div>\n",
              "  </div>\n",
              "  "
            ]
          },
          "metadata": {},
          "execution_count": 73
        }
      ]
    },
    {
      "cell_type": "code",
      "source": [
        "data.info()"
      ],
      "metadata": {
        "execution": {
          "iopub.status.busy": "2023-01-02T13:34:45.824391Z",
          "iopub.execute_input": "2023-01-02T13:34:45.825052Z",
          "iopub.status.idle": "2023-01-02T13:34:45.849843Z",
          "shell.execute_reply.started": "2023-01-02T13:34:45.825014Z",
          "shell.execute_reply": "2023-01-02T13:34:45.848097Z"
        },
        "trusted": true,
        "colab": {
          "base_uri": "https://localhost:8080/"
        },
        "id": "9EBh41DmwA-R",
        "outputId": "d263e8b1-e2a3-49be-c666-0e34f2380d1c"
      },
      "execution_count": 74,
      "outputs": [
        {
          "output_type": "stream",
          "name": "stdout",
          "text": [
            "<class 'pandas.core.frame.DataFrame'>\n",
            "RangeIndex: 6362620 entries, 0 to 6362619\n",
            "Data columns (total 11 columns):\n",
            " #   Column          Dtype  \n",
            "---  ------          -----  \n",
            " 0   step            int64  \n",
            " 1   type            object \n",
            " 2   amount          float64\n",
            " 3   nameOrig        object \n",
            " 4   oldbalanceOrg   float64\n",
            " 5   newbalanceOrig  float64\n",
            " 6   nameDest        object \n",
            " 7   oldbalanceDest  float64\n",
            " 8   newbalanceDest  float64\n",
            " 9   isFraud         int64  \n",
            " 10  isFlaggedFraud  int64  \n",
            "dtypes: float64(5), int64(3), object(3)\n",
            "memory usage: 534.0+ MB\n"
          ]
        }
      ]
    },
    {
      "cell_type": "markdown",
      "source": [
        "# Chechking Any missing data or NaN in the dataset?"
      ],
      "metadata": {
        "id": "bAkgJHpowA-S"
      }
    },
    {
      "cell_type": "code",
      "source": [
        "print(str('Any missing data or NaN in the dataset:'),data.isnull().values.any())"
      ],
      "metadata": {
        "execution": {
          "iopub.status.busy": "2023-01-02T13:34:45.851591Z",
          "iopub.execute_input": "2023-01-02T13:34:45.851989Z",
          "iopub.status.idle": "2023-01-02T13:34:46.770231Z",
          "shell.execute_reply.started": "2023-01-02T13:34:45.851953Z",
          "shell.execute_reply": "2023-01-02T13:34:46.769071Z"
        },
        "trusted": true,
        "colab": {
          "base_uri": "https://localhost:8080/"
        },
        "id": "Z_bpeh8ywA-U",
        "outputId": "b4b88156-f851-4e6e-eabe-1fb5bebbe9ae"
      },
      "execution_count": 40,
      "outputs": [
        {
          "output_type": "stream",
          "name": "stdout",
          "text": [
            "Any missing data or NaN in the dataset: False\n"
          ]
        }
      ]
    },
    {
      "cell_type": "markdown",
      "source": [
        "# **Exploratory Data Analysis**"
      ],
      "metadata": {
        "id": "6wtGhOZFwA-V"
      }
    },
    {
      "cell_type": "markdown",
      "source": [
        "# Inspect No. record and features"
      ],
      "metadata": {
        "id": "HRzBWv-0wA-W"
      }
    },
    {
      "cell_type": "code",
      "source": [
        "print(\"Number of records:\\t\\t\",data.shape[0])\n",
        "print(\"Number of features per record:\\t\",data.shape[1])"
      ],
      "metadata": {
        "execution": {
          "iopub.status.busy": "2023-01-02T13:34:46.773956Z",
          "iopub.execute_input": "2023-01-02T13:34:46.774380Z",
          "iopub.status.idle": "2023-01-02T13:34:46.781027Z",
          "shell.execute_reply.started": "2023-01-02T13:34:46.774347Z",
          "shell.execute_reply": "2023-01-02T13:34:46.779633Z"
        },
        "trusted": true,
        "colab": {
          "base_uri": "https://localhost:8080/"
        },
        "id": "MgZu31prwA-W",
        "outputId": "56a15ab3-0845-4206-c8f9-ffe7c12e03e7"
      },
      "execution_count": 41,
      "outputs": [
        {
          "output_type": "stream",
          "name": "stdout",
          "text": [
            "Number of records:\t\t 6362620\n",
            "Number of features per record:\t 11\n"
          ]
        }
      ]
    },
    {
      "cell_type": "markdown",
      "source": [
        "# Check % of No. of Valid and Fraud transactions"
      ],
      "metadata": {
        "id": "36Y886EDwA-X"
      }
    },
    {
      "cell_type": "code",
      "source": [
        "print(\"No. of Valid transactions (0):\",data.isFraud.value_counts()[0],'which is ',round(data.isFraud.value_counts()[0]/data.shape[0] * 100,2),'%')\n",
        "print(\"No. of Fraud transactions (1):\",data.isFraud.value_counts()[1],'which is ',round(data.isFraud.value_counts()[1]/data.shape[0] * 100,2),'%')"
      ],
      "metadata": {
        "execution": {
          "iopub.status.busy": "2023-01-02T13:34:46.782857Z",
          "iopub.execute_input": "2023-01-02T13:34:46.783261Z",
          "iopub.status.idle": "2023-01-02T13:34:47.014241Z",
          "shell.execute_reply.started": "2023-01-02T13:34:46.783225Z",
          "shell.execute_reply": "2023-01-02T13:34:47.012796Z"
        },
        "trusted": true,
        "colab": {
          "base_uri": "https://localhost:8080/"
        },
        "id": "v_Zqks3swA-Y",
        "outputId": "3ca01f7a-cc26-4fdd-ed65-691ab26a207d"
      },
      "execution_count": 42,
      "outputs": [
        {
          "output_type": "stream",
          "name": "stdout",
          "text": [
            "No. of Valid transactions (0): 6354407 which is  99.87 %\n",
            "No. of Fraud transactions (1): 8213 which is  0.13 %\n"
          ]
        }
      ]
    },
    {
      "cell_type": "markdown",
      "source": [
        "# Check of No. of Valid and Fraud transactions"
      ],
      "metadata": {
        "id": "nG5NGJnvwA-Z"
      }
    },
    {
      "cell_type": "code",
      "source": [
        "print(\"No of transactions Flagged as Valid (0) :\",data.isFlaggedFraud.value_counts()[0])\n",
        "print(\"No of transactions Flagged as Fraud (1) :\",data.isFlaggedFraud.value_counts()[1])"
      ],
      "metadata": {
        "execution": {
          "iopub.status.busy": "2023-01-02T13:34:47.016128Z",
          "iopub.execute_input": "2023-01-02T13:34:47.016492Z",
          "iopub.status.idle": "2023-01-02T13:34:47.133446Z",
          "shell.execute_reply.started": "2023-01-02T13:34:47.016460Z",
          "shell.execute_reply": "2023-01-02T13:34:47.131945Z"
        },
        "trusted": true,
        "colab": {
          "base_uri": "https://localhost:8080/"
        },
        "id": "J9kkM83twA-Z",
        "outputId": "00db8fdf-c8bc-4447-c4c2-d36e11634888"
      },
      "execution_count": 43,
      "outputs": [
        {
          "output_type": "stream",
          "name": "stdout",
          "text": [
            "No of transactions Flagged as Valid (0) : 6362604\n",
            "No of transactions Flagged as Fraud (1) : 16\n"
          ]
        }
      ]
    },
    {
      "cell_type": "markdown",
      "source": [
        "# Looking for mismatch in the balance at origin and destination after transaction?"
      ],
      "metadata": {
        "id": "cdK73eHIwA-a"
      }
    },
    {
      "cell_type": "code",
      "source": [
        "print(\"Are there any mismatch in the balance at origin and destination after transaction?\")\n",
        "data['error_orig'] = (data[\"oldbalanceOrg\"] - data[\"amount\"] != data[\"newbalanceOrig\"]).astype(int)\n",
        "data['error_dest'] = (data[\"oldbalanceDest\"] + data[\"amount\"] != data[\"newbalanceDest\"]).astype(int)\n",
        "\n",
        "print(\"Balance Error(%) at the origin:\",round(data['error_orig'].value_counts()[1]/data.shape[0] * 100,2))\n",
        "print(\"Balance Error(%) at the destination:\",round(data['error_dest'].value_counts()[1]/data.shape[0] * 100,2))"
      ],
      "metadata": {
        "execution": {
          "iopub.status.busy": "2023-01-02T13:34:47.134977Z",
          "iopub.execute_input": "2023-01-02T13:34:47.135366Z",
          "iopub.status.idle": "2023-01-02T13:34:47.363170Z",
          "shell.execute_reply.started": "2023-01-02T13:34:47.135331Z",
          "shell.execute_reply": "2023-01-02T13:34:47.361861Z"
        },
        "trusted": true,
        "colab": {
          "base_uri": "https://localhost:8080/"
        },
        "id": "Jrrgas3IwA-a",
        "outputId": "74ea094d-f9d3-4c12-ba26-309f66e691b3"
      },
      "execution_count": 75,
      "outputs": [
        {
          "output_type": "stream",
          "name": "stdout",
          "text": [
            "Are there any mismatch in the balance at origin and destination after transaction?\n",
            "Balance Error(%) at the origin: 85.09\n",
            "Balance Error(%) at the destination: 74.45\n"
          ]
        }
      ]
    },
    {
      "cell_type": "markdown",
      "source": [
        "# Inspect transaction data with amount less than or equal to 0?"
      ],
      "metadata": {
        "id": "e-8mfQGdwA-c"
      }
    },
    {
      "cell_type": "code",
      "source": [
        "print(\"Any transaction with amount less than or equal to 0?\")\n",
        "print(len(data[data.amount<=0]))\n",
        "print(\"What type of transactions are they?\")\n",
        "print(data[data.amount<=0]['type'].value_counts().index[0])\n",
        "print(\"Are all these marked as Fraud Transactions?\")\n",
        "data[data.amount<=0]['isFraud'].value_counts()[1] == len(data[data.amount<=0])"
      ],
      "metadata": {
        "execution": {
          "iopub.status.busy": "2023-01-02T13:34:47.367376Z",
          "iopub.execute_input": "2023-01-02T13:34:47.367806Z",
          "iopub.status.idle": "2023-01-02T13:34:47.620892Z",
          "shell.execute_reply.started": "2023-01-02T13:34:47.367743Z",
          "shell.execute_reply": "2023-01-02T13:34:47.619664Z"
        },
        "trusted": true,
        "colab": {
          "base_uri": "https://localhost:8080/"
        },
        "id": "qgk2CYyewA-d",
        "outputId": "36076a62-bc00-4c7d-b000-f1e8b80c56f9"
      },
      "execution_count": 45,
      "outputs": [
        {
          "output_type": "stream",
          "name": "stdout",
          "text": [
            "Any transaction with amount less than or equal to 0?\n",
            "16\n",
            "What type of transactions are they?\n",
            "CASH_OUT\n",
            "Are all these marked as Fraud Transactions?\n"
          ]
        },
        {
          "output_type": "execute_result",
          "data": {
            "text/plain": [
              "True"
            ]
          },
          "metadata": {},
          "execution_count": 45
        }
      ]
    },
    {
      "cell_type": "markdown",
      "source": [
        "# Inspecting no. isFlaggedFraud and amount data"
      ],
      "metadata": {
        "id": "IBmXr2YYwA-i"
      }
    },
    {
      "cell_type": "code",
      "source": [
        "data_temp = data[data.isFlaggedFraud==1]\n",
        "print(\"How many frauds transactions are Flagged?:\")\n",
        "print(len(data_temp))\n",
        "\n",
        "print(\"What type of transactions are they?\")\n",
        "print(data_temp['type'].value_counts().index[0])\n",
        "\n",
        "print(\"Are all these flagged also marked as Fraud Transactions?\")\n",
        "print(data_temp['isFraud'].value_counts()[1] == len(data_temp))\n",
        "\n",
        "print(\"Minumum amount transfered in these transactions\")\n",
        "print(data_temp.amount.min())\n",
        "\n",
        "print(\"Maximum amount transfered in these transactions\")\n",
        "print(data_temp.amount.max())"
      ],
      "metadata": {
        "execution": {
          "iopub.status.busy": "2023-01-02T13:34:47.622653Z",
          "iopub.execute_input": "2023-01-02T13:34:47.623951Z",
          "iopub.status.idle": "2023-01-02T13:34:47.642865Z",
          "shell.execute_reply.started": "2023-01-02T13:34:47.623905Z",
          "shell.execute_reply": "2023-01-02T13:34:47.641505Z"
        },
        "trusted": true,
        "colab": {
          "base_uri": "https://localhost:8080/"
        },
        "id": "27_sUF8vwA-j",
        "outputId": "67f48a63-440b-482e-9e9d-878fe6608260"
      },
      "execution_count": 46,
      "outputs": [
        {
          "output_type": "stream",
          "name": "stdout",
          "text": [
            "How many frauds transactions are Flagged?:\n",
            "16\n",
            "What type of transactions are they?\n",
            "TRANSFER\n",
            "Are all these flagged also marked as Fraud Transactions?\n",
            "True\n",
            "Minumum amount transfered in these transactions\n",
            "353874.22\n",
            "Maximum amount transfered in these transactions\n",
            "10000000.0\n"
          ]
        }
      ]
    },
    {
      "cell_type": "code",
      "source": [
        "print(\"No. of Valid transactions (0) \",data.isFraud.value_counts()[0],'which is ',round(data.isFraud.value_counts()[0]/data.shape[0] * 100,2),'%')\n",
        "print(\"No. of Fraud transactions (1) \",data.isFraud.value_counts()[1],'which is ',round(data.isFraud.value_counts()[1]/data.shape[0] * 100,2),'%')"
      ],
      "metadata": {
        "execution": {
          "iopub.status.busy": "2023-01-02T13:34:47.644598Z",
          "iopub.execute_input": "2023-01-02T13:34:47.645925Z",
          "iopub.status.idle": "2023-01-02T13:34:47.868904Z",
          "shell.execute_reply.started": "2023-01-02T13:34:47.645875Z",
          "shell.execute_reply": "2023-01-02T13:34:47.867795Z"
        },
        "trusted": true,
        "colab": {
          "base_uri": "https://localhost:8080/"
        },
        "id": "97U70p5NwA-k",
        "outputId": "7e7809e9-6c71-47fe-ca81-6ec03e7bd373"
      },
      "execution_count": 47,
      "outputs": [
        {
          "output_type": "stream",
          "name": "stdout",
          "text": [
            "No. of Valid transactions (0)  6354407 which is  99.87 %\n",
            "No. of Fraud transactions (1)  8213 which is  0.13 %\n"
          ]
        }
      ]
    },
    {
      "cell_type": "code",
      "source": [
        "data = data.loc[(data['type'].isin(['TRANSFER', 'CASH_OUT']))]\n",
        "data.head()"
      ],
      "metadata": {
        "execution": {
          "iopub.status.busy": "2023-01-02T13:34:47.870052Z",
          "iopub.execute_input": "2023-01-02T13:34:47.870359Z",
          "iopub.status.idle": "2023-01-02T13:34:48.485450Z",
          "shell.execute_reply.started": "2023-01-02T13:34:47.870331Z",
          "shell.execute_reply": "2023-01-02T13:34:48.484228Z"
        },
        "trusted": true,
        "colab": {
          "base_uri": "https://localhost:8080/",
          "height": 235
        },
        "id": "VkQS61vSwA-l",
        "outputId": "741b6cfe-4812-48f3-93d7-880d16f63ad1"
      },
      "execution_count": 48,
      "outputs": [
        {
          "output_type": "execute_result",
          "data": {
            "text/plain": [
              "    step      type     amount     nameOrig  oldbalanceOrg  ...  \\\n",
              "2      1  TRANSFER     181.00  C1305486145          181.0  ...   \n",
              "3      1  CASH_OUT     181.00   C840083671          181.0  ...   \n",
              "15     1  CASH_OUT  229133.94   C905080434        15325.0  ...   \n",
              "19     1  TRANSFER  215310.30  C1670993182          705.0  ...   \n",
              "24     1  TRANSFER  311685.89  C1984094095        10835.0  ...   \n",
              "\n",
              "    newbalanceDest isFraud  isFlaggedFraud  error_orig  error_dest  \n",
              "2             0.00       1               0           0           1  \n",
              "3             0.00       1               0           0           1  \n",
              "15        51513.44       0               0           1           1  \n",
              "19            0.00       0               0           1           1  \n",
              "24      2719172.89       0               0           1           1  \n",
              "\n",
              "[5 rows x 13 columns]"
            ],
            "text/html": [
              "\n",
              "  <div id=\"df-3dea879b-be71-4bd6-bedb-75fc2395722f\">\n",
              "    <div class=\"colab-df-container\">\n",
              "      <div>\n",
              "<style scoped>\n",
              "    .dataframe tbody tr th:only-of-type {\n",
              "        vertical-align: middle;\n",
              "    }\n",
              "\n",
              "    .dataframe tbody tr th {\n",
              "        vertical-align: top;\n",
              "    }\n",
              "\n",
              "    .dataframe thead th {\n",
              "        text-align: right;\n",
              "    }\n",
              "</style>\n",
              "<table border=\"1\" class=\"dataframe\">\n",
              "  <thead>\n",
              "    <tr style=\"text-align: right;\">\n",
              "      <th></th>\n",
              "      <th>step</th>\n",
              "      <th>type</th>\n",
              "      <th>amount</th>\n",
              "      <th>nameOrig</th>\n",
              "      <th>oldbalanceOrg</th>\n",
              "      <th>...</th>\n",
              "      <th>newbalanceDest</th>\n",
              "      <th>isFraud</th>\n",
              "      <th>isFlaggedFraud</th>\n",
              "      <th>error_orig</th>\n",
              "      <th>error_dest</th>\n",
              "    </tr>\n",
              "  </thead>\n",
              "  <tbody>\n",
              "    <tr>\n",
              "      <th>2</th>\n",
              "      <td>1</td>\n",
              "      <td>TRANSFER</td>\n",
              "      <td>181.00</td>\n",
              "      <td>C1305486145</td>\n",
              "      <td>181.0</td>\n",
              "      <td>...</td>\n",
              "      <td>0.00</td>\n",
              "      <td>1</td>\n",
              "      <td>0</td>\n",
              "      <td>0</td>\n",
              "      <td>1</td>\n",
              "    </tr>\n",
              "    <tr>\n",
              "      <th>3</th>\n",
              "      <td>1</td>\n",
              "      <td>CASH_OUT</td>\n",
              "      <td>181.00</td>\n",
              "      <td>C840083671</td>\n",
              "      <td>181.0</td>\n",
              "      <td>...</td>\n",
              "      <td>0.00</td>\n",
              "      <td>1</td>\n",
              "      <td>0</td>\n",
              "      <td>0</td>\n",
              "      <td>1</td>\n",
              "    </tr>\n",
              "    <tr>\n",
              "      <th>15</th>\n",
              "      <td>1</td>\n",
              "      <td>CASH_OUT</td>\n",
              "      <td>229133.94</td>\n",
              "      <td>C905080434</td>\n",
              "      <td>15325.0</td>\n",
              "      <td>...</td>\n",
              "      <td>51513.44</td>\n",
              "      <td>0</td>\n",
              "      <td>0</td>\n",
              "      <td>1</td>\n",
              "      <td>1</td>\n",
              "    </tr>\n",
              "    <tr>\n",
              "      <th>19</th>\n",
              "      <td>1</td>\n",
              "      <td>TRANSFER</td>\n",
              "      <td>215310.30</td>\n",
              "      <td>C1670993182</td>\n",
              "      <td>705.0</td>\n",
              "      <td>...</td>\n",
              "      <td>0.00</td>\n",
              "      <td>0</td>\n",
              "      <td>0</td>\n",
              "      <td>1</td>\n",
              "      <td>1</td>\n",
              "    </tr>\n",
              "    <tr>\n",
              "      <th>24</th>\n",
              "      <td>1</td>\n",
              "      <td>TRANSFER</td>\n",
              "      <td>311685.89</td>\n",
              "      <td>C1984094095</td>\n",
              "      <td>10835.0</td>\n",
              "      <td>...</td>\n",
              "      <td>2719172.89</td>\n",
              "      <td>0</td>\n",
              "      <td>0</td>\n",
              "      <td>1</td>\n",
              "      <td>1</td>\n",
              "    </tr>\n",
              "  </tbody>\n",
              "</table>\n",
              "<p>5 rows × 13 columns</p>\n",
              "</div>\n",
              "      <button class=\"colab-df-convert\" onclick=\"convertToInteractive('df-3dea879b-be71-4bd6-bedb-75fc2395722f')\"\n",
              "              title=\"Convert this dataframe to an interactive table.\"\n",
              "              style=\"display:none;\">\n",
              "        \n",
              "  <svg xmlns=\"http://www.w3.org/2000/svg\" height=\"24px\"viewBox=\"0 0 24 24\"\n",
              "       width=\"24px\">\n",
              "    <path d=\"M0 0h24v24H0V0z\" fill=\"none\"/>\n",
              "    <path d=\"M18.56 5.44l.94 2.06.94-2.06 2.06-.94-2.06-.94-.94-2.06-.94 2.06-2.06.94zm-11 1L8.5 8.5l.94-2.06 2.06-.94-2.06-.94L8.5 2.5l-.94 2.06-2.06.94zm10 10l.94 2.06.94-2.06 2.06-.94-2.06-.94-.94-2.06-.94 2.06-2.06.94z\"/><path d=\"M17.41 7.96l-1.37-1.37c-.4-.4-.92-.59-1.43-.59-.52 0-1.04.2-1.43.59L10.3 9.45l-7.72 7.72c-.78.78-.78 2.05 0 2.83L4 21.41c.39.39.9.59 1.41.59.51 0 1.02-.2 1.41-.59l7.78-7.78 2.81-2.81c.8-.78.8-2.07 0-2.86zM5.41 20L4 18.59l7.72-7.72 1.47 1.35L5.41 20z\"/>\n",
              "  </svg>\n",
              "      </button>\n",
              "      \n",
              "  <style>\n",
              "    .colab-df-container {\n",
              "      display:flex;\n",
              "      flex-wrap:wrap;\n",
              "      gap: 12px;\n",
              "    }\n",
              "\n",
              "    .colab-df-convert {\n",
              "      background-color: #E8F0FE;\n",
              "      border: none;\n",
              "      border-radius: 50%;\n",
              "      cursor: pointer;\n",
              "      display: none;\n",
              "      fill: #1967D2;\n",
              "      height: 32px;\n",
              "      padding: 0 0 0 0;\n",
              "      width: 32px;\n",
              "    }\n",
              "\n",
              "    .colab-df-convert:hover {\n",
              "      background-color: #E2EBFA;\n",
              "      box-shadow: 0px 1px 2px rgba(60, 64, 67, 0.3), 0px 1px 3px 1px rgba(60, 64, 67, 0.15);\n",
              "      fill: #174EA6;\n",
              "    }\n",
              "\n",
              "    [theme=dark] .colab-df-convert {\n",
              "      background-color: #3B4455;\n",
              "      fill: #D2E3FC;\n",
              "    }\n",
              "\n",
              "    [theme=dark] .colab-df-convert:hover {\n",
              "      background-color: #434B5C;\n",
              "      box-shadow: 0px 1px 3px 1px rgba(0, 0, 0, 0.15);\n",
              "      filter: drop-shadow(0px 1px 2px rgba(0, 0, 0, 0.3));\n",
              "      fill: #FFFFFF;\n",
              "    }\n",
              "  </style>\n",
              "\n",
              "      <script>\n",
              "        const buttonEl =\n",
              "          document.querySelector('#df-3dea879b-be71-4bd6-bedb-75fc2395722f button.colab-df-convert');\n",
              "        buttonEl.style.display =\n",
              "          google.colab.kernel.accessAllowed ? 'block' : 'none';\n",
              "\n",
              "        async function convertToInteractive(key) {\n",
              "          const element = document.querySelector('#df-3dea879b-be71-4bd6-bedb-75fc2395722f');\n",
              "          const dataTable =\n",
              "            await google.colab.kernel.invokeFunction('convertToInteractive',\n",
              "                                                     [key], {});\n",
              "          if (!dataTable) return;\n",
              "\n",
              "          const docLinkHtml = 'Like what you see? Visit the ' +\n",
              "            '<a target=\"_blank\" href=https://colab.research.google.com/notebooks/data_table.ipynb>data table notebook</a>'\n",
              "            + ' to learn more about interactive tables.';\n",
              "          element.innerHTML = '';\n",
              "          dataTable['output_type'] = 'display_data';\n",
              "          await google.colab.output.renderOutput(dataTable, element);\n",
              "          const docLink = document.createElement('div');\n",
              "          docLink.innerHTML = docLinkHtml;\n",
              "          element.appendChild(docLink);\n",
              "        }\n",
              "      </script>\n",
              "    </div>\n",
              "  </div>\n",
              "  "
            ]
          },
          "metadata": {},
          "execution_count": 48
        }
      ]
    },
    {
      "cell_type": "markdown",
      "source": [
        "# **Data Visualization**"
      ],
      "metadata": {
        "id": "B67uGF2_wA-l"
      }
    },
    {
      "cell_type": "code",
      "source": [
        "#create pie chart\n",
        "plt.figure(figsize=(5,8))\n",
        "plt.pie(data.type.value_counts().values,labels=data.type.value_counts().index,  autopct='%.0f%%')\n",
        "plt.title(\"Transaction Type\")\n",
        "plt.show()"
      ],
      "metadata": {
        "execution": {
          "iopub.status.busy": "2023-01-02T13:34:48.486854Z",
          "iopub.execute_input": "2023-01-02T13:34:48.487189Z",
          "iopub.status.idle": "2023-01-02T13:34:48.988424Z",
          "shell.execute_reply.started": "2023-01-02T13:34:48.487158Z",
          "shell.execute_reply": "2023-01-02T13:34:48.987122Z"
        },
        "trusted": true,
        "colab": {
          "base_uri": "https://localhost:8080/",
          "height": 326
        },
        "id": "slz9iblXwA-m",
        "outputId": "b415fd72-4bbd-4460-c524-49827ccb2860"
      },
      "execution_count": 49,
      "outputs": [
        {
          "output_type": "display_data",
          "data": {
            "text/plain": [
              "<Figure size 360x576 with 1 Axes>"
            ],
            "image/png": "[encoded data removed]"
          },
          "metadata": {}
        }
      ]
    },
    {
      "cell_type": "code",
      "source": [
        "fraud = data['isFraud'].isin([0])\n",
        "fraud_time = data[fraud].groupby(['type']).size().plot(kind='bar')\n",
        "fraud_time.set_xlabel(\"Transaction Type\")\n",
        "plt.show()"
      ],
      "metadata": {
        "execution": {
          "iopub.status.busy": "2023-01-02T13:34:48.989930Z",
          "iopub.execute_input": "2023-01-02T13:34:48.990409Z",
          "iopub.status.idle": "2023-01-02T13:34:49.795193Z",
          "shell.execute_reply.started": "2023-01-02T13:34:48.990362Z",
          "shell.execute_reply": "2023-01-02T13:34:49.793851Z"
        },
        "trusted": true,
        "colab": {
          "base_uri": "https://localhost:8080/",
          "height": 334
        },
        "id": "uz-O7VcnwA-m",
        "outputId": "4fce4ff6-e564-4c92-9560-39b12d7f4f12"
      },
      "execution_count": 50,
      "outputs": [
        {
          "output_type": "display_data",
          "data": {
            "text/plain": [
              "<Figure size 432x288 with 1 Axes>"
            ],
            "image/png": "[encoded data removed]"
          },
          "metadata": {
            "needs_background": "light"
          }
        }
      ]
    },
    {
      "cell_type": "markdown",
      "source": [
        "**Split of Fraud Transactions by Transaction Type**"
      ],
      "metadata": {
        "id": "7dJ6hTuAwA-n"
      }
    },
    {
      "cell_type": "code",
      "source": [
        "fraud = data['isFraud'].isin([1])\n",
        "fraud_time = data[fraud].groupby(['type']).size().plot(kind='bar')\n",
        "fraud_time.set_xlabel(\"Transaction Type\")\n",
        "plt.show()"
      ],
      "metadata": {
        "execution": {
          "iopub.status.busy": "2023-01-02T13:34:49.796957Z",
          "iopub.execute_input": "2023-01-02T13:34:49.797667Z",
          "iopub.status.idle": "2023-01-02T13:34:49.951829Z",
          "shell.execute_reply.started": "2023-01-02T13:34:49.797618Z",
          "shell.execute_reply": "2023-01-02T13:34:49.950446Z"
        },
        "trusted": true,
        "colab": {
          "base_uri": "https://localhost:8080/",
          "height": 323
        },
        "id": "aorVVSWUwA-n",
        "outputId": "7b87366a-6fa7-4b40-c680-4d1ccab6da0e"
      },
      "execution_count": 51,
      "outputs": [
        {
          "output_type": "display_data",
          "data": {
            "text/plain": [
              "<Figure size 432x288 with 1 Axes>"
            ],
            "image/png": "[encoded data removed]"
          },
          "metadata": {
            "needs_background": "light"
          }
        }
      ]
    },
    {
      "cell_type": "markdown",
      "source": [
        "Split of Fraud Transactions by Transaction Type"
      ],
      "metadata": {
        "id": "8TAdjBiMwA-o"
      }
    },
    {
      "cell_type": "code",
      "source": [
        "d = data.groupby('type')['amount'].sum()\n",
        "plt.figure(figsize=(15,5))\n",
        "ax = sns.barplot(x=d.index,y=d.values)\n",
        "for p in ax.patches:\n",
        "    ax.annotate(str(format(int(p.get_height()), ',d')), (p.get_x()+0.24, p.get_height()*1.01))\n",
        "    \n",
        "plt.title(\"Total amount in each transaction type\")\n",
        "plt.yticks([])\n",
        "plt.xlabel(\"Transaction Type\")\n",
        "plt.show()"
      ],
      "metadata": {
        "execution": {
          "iopub.status.busy": "2023-01-02T13:34:49.953908Z",
          "iopub.execute_input": "2023-01-02T13:34:49.954412Z",
          "iopub.status.idle": "2023-01-02T13:34:50.502696Z",
          "shell.execute_reply.started": "2023-01-02T13:34:49.954365Z",
          "shell.execute_reply": "2023-01-02T13:34:50.501234Z"
        },
        "trusted": true,
        "colab": {
          "base_uri": "https://localhost:8080/",
          "height": 351
        },
        "id": "Cko5ZX9XwA-o",
        "outputId": "566a4bcb-c0f7-41dc-fddd-972bc3c52b64"
      },
      "execution_count": 77,
      "outputs": [
        {
          "output_type": "display_data",
          "data": {
            "text/plain": [
              "<Figure size 1080x360 with 1 Axes>"
            ],
            "image/png": "[encoded data removed]"
          },
          "metadata": {
            "needs_background": "light"
          }
        }
      ]
    },
    {
      "cell_type": "markdown",
      "source": [
        "**Fraud Transactions by Transaction Type**"
      ],
      "metadata": {
        "id": "_e4L36j7wA-o"
      }
    },
    {
      "cell_type": "code",
      "source": [
        "plt.figure(figsize=(5,5))\n",
        "ax = data.groupby(['type','isFraud']).size().plot(kind='bar')\n",
        "\n",
        "for p in ax.patches:\n",
        "    ax.annotate(str(format(int(p.get_height()), ',d')), (p.get_x(), p.get_height()*1.01))\n",
        "plt.title(\"Fradulent Transactions\")\n",
        "plt.xlabel(\"Transaction Type\")\n",
        "plt.yticks([])\n",
        "plt.xticks(rotation=45)\n",
        "plt.show()"
      ],
      "metadata": {
        "execution": {
          "iopub.status.busy": "2023-01-02T13:34:50.504351Z",
          "iopub.execute_input": "2023-01-02T13:34:50.505198Z",
          "iopub.status.idle": "2023-01-02T13:34:51.041346Z",
          "shell.execute_reply.started": "2023-01-02T13:34:50.505140Z",
          "shell.execute_reply": "2023-01-02T13:34:51.039728Z"
        },
        "trusted": true,
        "colab": {
          "base_uri": "https://localhost:8080/",
          "height": 366
        },
        "id": "3V1kvRNMwA-p",
        "outputId": "540dfc14-387b-4311-e96f-3b3ca865f066"
      },
      "execution_count": 70,
      "outputs": [
        {
          "output_type": "display_data",
          "data": {
            "text/plain": [
              "<Figure size 360x360 with 1 Axes>"
            ],
            "image/png": "[encoded data removed]"
          },
          "metadata": {
            "needs_background": "light"
          }
        }
      ]
    },
    {
      "cell_type": "markdown",
      "source": [
        "# Label Encoding for object to numeric conversion"
      ],
      "metadata": {
        "id": "PZSh-9l_wA-p"
      }
    },
    {
      "cell_type": "code",
      "source": [
        "objList = data.select_dtypes(include = \"object\").columns\n",
        "\n",
        "le = LabelEncoder()\n",
        "\n",
        "for feat in objList:\n",
        "    data[feat] = le.fit_transform(data[feat].astype(str))\n",
        "\n",
        "print (data.info())"
      ],
      "metadata": {
        "execution": {
          "iopub.status.busy": "2023-01-02T13:34:51.043412Z",
          "iopub.execute_input": "2023-01-02T13:34:51.043948Z",
          "iopub.status.idle": "2023-01-02T13:35:12.746098Z",
          "shell.execute_reply.started": "2023-01-02T13:34:51.043900Z",
          "shell.execute_reply": "2023-01-02T13:35:12.744398Z"
        },
        "trusted": true,
        "colab": {
          "base_uri": "https://localhost:8080/"
        },
        "id": "ydnQTeQUwA-p",
        "outputId": "b187a4c4-1b91-46e9-fce8-749a252c0531"
      },
      "execution_count": 54,
      "outputs": [
        {
          "output_type": "stream",
          "name": "stdout",
          "text": [
            "<class 'pandas.core.frame.DataFrame'>\n",
            "Int64Index: 2770409 entries, 2 to 6362619\n",
            "Data columns (total 13 columns):\n",
            " #   Column          Dtype  \n",
            "---  ------          -----  \n",
            " 0   step            int64  \n",
            " 1   type            int64  \n",
            " 2   amount          float64\n",
            " 3   nameOrig        int64  \n",
            " 4   oldbalanceOrg   float64\n",
            " 5   newbalanceOrig  float64\n",
            " 6   nameDest        int64  \n",
            " 7   oldbalanceDest  float64\n",
            " 8   newbalanceDest  float64\n",
            " 9   isFraud         int64  \n",
            " 10  isFlaggedFraud  int64  \n",
            " 11  error_orig      int64  \n",
            " 12  error_dest      int64  \n",
            "dtypes: float64(5), int64(8)\n",
            "memory usage: 295.9 MB\n",
            "None\n"
          ]
        }
      ]
    },
    {
      "cell_type": "code",
      "source": [
        "corr=data.corr()\n",
        "plt.figure(figsize=(15,6))\n",
        "sns.heatmap(corr,annot=True)"
      ],
      "metadata": {
        "execution": {
          "iopub.status.busy": "2023-01-02T13:35:12.747842Z",
          "iopub.execute_input": "2023-01-02T13:35:12.748215Z",
          "iopub.status.idle": "2023-01-02T13:35:15.403159Z",
          "shell.execute_reply.started": "2023-01-02T13:35:12.748181Z",
          "shell.execute_reply": "2023-01-02T13:35:15.402198Z"
        },
        "trusted": true,
        "colab": {
          "base_uri": "https://localhost:8080/",
          "height": 468
        },
        "id": "SqXvaVn_wA-q",
        "outputId": "5646bb5e-e06a-4151-edb6-17eafe8edeab"
      },
      "execution_count": 55,
      "outputs": [
        {
          "output_type": "execute_result",
          "data": {
            "text/plain": [
              "<matplotlib.axes._subplots.AxesSubplot at 0x7f46b3e4eb50>"
            ]
          },
          "metadata": {},
          "execution_count": 55
        },
        {
          "output_type": "display_data",
          "data": {
            "text/plain": [
              "<Figure size 1080x432 with 2 Axes>"
            ],
            "image/png": "[encoded data removed]"
          },
          "metadata": {
            "needs_background": "light"
          }
        }
      ]
    },
    {
      "cell_type": "markdown",
      "source": [
        "# Data cleaning including outliers. "
      ],
      "metadata": {
        "id": "kI9XJ7g_wA-q"
      }
    },
    {
      "cell_type": "code",
      "source": [
        "sns.boxplot(data['amount'])\n",
        "plt.title(\"Plot Before handling outliers\")\n",
        "# Computing 10th, 90th percentiles and replacing the outliers\n",
        "tenth_percentile = np.percentile(data.amount, 10)\n",
        "ninetieth_percentile = np.percentile(data.amount, 90)\n",
        "# print(tenth_percentile, ninetieth_percentile)\n",
        "data['amount'] = np.where(data.amount<tenth_percentile, tenth_percentile, data.amount)\n",
        "data['amount'] = np.where(data['amount']>ninetieth_percentile, ninetieth_percentile, data['amount'])\n",
        "plt.figure(figsize=(8,4))\n",
        "sns.boxplot(data['amount'])\n",
        "plt.title(\"Plot After handling outliers\")\n",
        "plt.title(\"Amount box plot\")"
      ],
      "metadata": {
        "execution": {
          "iopub.status.busy": "2023-01-02T13:35:15.404661Z",
          "iopub.execute_input": "2023-01-02T13:35:15.405053Z",
          "iopub.status.idle": "2023-01-02T13:35:16.460564Z",
          "shell.execute_reply.started": "2023-01-02T13:35:15.405020Z",
          "shell.execute_reply": "2023-01-02T13:35:16.459241Z"
        },
        "trusted": true,
        "colab": {
          "base_uri": "https://localhost:8080/",
          "height": 590
        },
        "id": "nTnsGJXzwA-r",
        "outputId": "7506c243-4f57-4afa-b646-54f05a8ab821"
      },
      "execution_count": 56,
      "outputs": [
        {
          "output_type": "execute_result",
          "data": {
            "text/plain": [
              "Text(0.5, 1.0, 'Amount box plot')"
            ]
          },
          "metadata": {},
          "execution_count": 56
        },
        {
          "output_type": "display_data",
          "data": {
            "text/plain": [
              "<Figure size 432x288 with 1 Axes>"
            ],
            "image/png": "[encoded data removed]"
          },
          "metadata": {
            "needs_background": "light"
          }
        },
        {
          "output_type": "display_data",
          "data": {
            "text/plain": [
              "<Figure size 576x288 with 1 Axes>"
            ],
            "image/png": "[encoded data removed]"
          },
          "metadata": {
            "needs_background": "light"
          }
        }
      ]
    },
    {
      "cell_type": "markdown",
      "source": [
        "# Data cleaning including MULTICOLINEARITY"
      ],
      "metadata": {
        "id": "uDPrI-MewA-r"
      }
    },
    {
      "cell_type": "code",
      "source": [
        "# Import library for VIF (VARIANCE INFLATION FACTOR)\n",
        "from statsmodels.stats.outliers_influence import variance_inflation_factor\n",
        "def calc_vif(data):\n",
        "    # Calculating VIF\n",
        "    vif = pd.DataFrame()\n",
        "    vif[\"variables\"] = data.columns\n",
        "    vif[\"VIF\"] = [variance_inflation_factor(data.values, i) for i in range(data.shape[1])]\n",
        "\n",
        "    return(vif)\n",
        "\n",
        "calc_vif(data)"
      ],
      "metadata": {
        "execution": {
          "iopub.status.busy": "2023-01-02T13:35:16.462565Z",
          "iopub.execute_input": "2023-01-02T13:35:16.463050Z",
          "iopub.status.idle": "2023-01-02T13:36:11.919666Z",
          "shell.execute_reply.started": "2023-01-02T13:35:16.463005Z",
          "shell.execute_reply": "2023-01-02T13:36:11.917837Z"
        },
        "trusted": true,
        "colab": {
          "base_uri": "https://localhost:8080/",
          "height": 457
        },
        "id": "3-puH-elwA-s",
        "outputId": "63e43a0d-1a3f-4e7c-81fc-601017f38b7f"
      },
      "execution_count": 57,
      "outputs": [
        {
          "output_type": "execute_result",
          "data": {
            "text/plain": [
              "         variables        VIF\n",
              "0             step   3.513442\n",
              "1             type   1.706589\n",
              "2           amount   4.194175\n",
              "3         nameOrig   3.580319\n",
              "4    oldbalanceOrg   3.485453\n",
              "5   newbalanceOrig   3.052719\n",
              "6         nameDest   3.580585\n",
              "7   oldbalanceDest  21.713842\n",
              "8   newbalanceDest  22.870331\n",
              "9          isFraud   1.339878\n",
              "10  isFlaggedFraud   1.021400\n",
              "11      error_orig   8.592663\n",
              "12      error_dest   1.707465"
            ],
            "text/html": [
              "\n",
              "  <div id=\"df-1471ccb9-33b1-4231-ab72-74a955cff60e\">\n",
              "    <div class=\"colab-df-container\">\n",
              "      <div>\n",
              "<style scoped>\n",
              "    .dataframe tbody tr th:only-of-type {\n",
              "        vertical-align: middle;\n",
              "    }\n",
              "\n",
              "    .dataframe tbody tr th {\n",
              "        vertical-align: top;\n",
              "    }\n",
              "\n",
              "    .dataframe thead th {\n",
              "        text-align: right;\n",
              "    }\n",
              "</style>\n",
              "<table border=\"1\" class=\"dataframe\">\n",
              "  <thead>\n",
              "    <tr style=\"text-align: right;\">\n",
              "      <th></th>\n",
              "      <th>variables</th>\n",
              "      <th>VIF</th>\n",
              "    </tr>\n",
              "  </thead>\n",
              "  <tbody>\n",
              "    <tr>\n",
              "      <th>0</th>\n",
              "      <td>step</td>\n",
              "      <td>3.513442</td>\n",
              "    </tr>\n",
              "    <tr>\n",
              "      <th>1</th>\n",
              "      <td>type</td>\n",
              "      <td>1.706589</td>\n",
              "    </tr>\n",
              "    <tr>\n",
              "      <th>2</th>\n",
              "      <td>amount</td>\n",
              "      <td>4.194175</td>\n",
              "    </tr>\n",
              "    <tr>\n",
              "      <th>3</th>\n",
              "      <td>nameOrig</td>\n",
              "      <td>3.580319</td>\n",
              "    </tr>\n",
              "    <tr>\n",
              "      <th>4</th>\n",
              "      <td>oldbalanceOrg</td>\n",
              "      <td>3.485453</td>\n",
              "    </tr>\n",
              "    <tr>\n",
              "      <th>5</th>\n",
              "      <td>newbalanceOrig</td>\n",
              "      <td>3.052719</td>\n",
              "    </tr>\n",
              "    <tr>\n",
              "      <th>6</th>\n",
              "      <td>nameDest</td>\n",
              "      <td>3.580585</td>\n",
              "    </tr>\n",
              "    <tr>\n",
              "      <th>7</th>\n",
              "      <td>oldbalanceDest</td>\n",
              "      <td>21.713842</td>\n",
              "    </tr>\n",
              "    <tr>\n",
              "      <th>8</th>\n",
              "      <td>newbalanceDest</td>\n",
              "      <td>22.870331</td>\n",
              "    </tr>\n",
              "    <tr>\n",
              "      <th>9</th>\n",
              "      <td>isFraud</td>\n",
              "      <td>1.339878</td>\n",
              "    </tr>\n",
              "    <tr>\n",
              "      <th>10</th>\n",
              "      <td>isFlaggedFraud</td>\n",
              "      <td>1.021400</td>\n",
              "    </tr>\n",
              "    <tr>\n",
              "      <th>11</th>\n",
              "      <td>error_orig</td>\n",
              "      <td>8.592663</td>\n",
              "    </tr>\n",
              "    <tr>\n",
              "      <th>12</th>\n",
              "      <td>error_dest</td>\n",
              "      <td>1.707465</td>\n",
              "    </tr>\n",
              "  </tbody>\n",
              "</table>\n",
              "</div>\n",
              "      <button class=\"colab-df-convert\" onclick=\"convertToInteractive('df-1471ccb9-33b1-4231-ab72-74a955cff60e')\"\n",
              "              title=\"Convert this dataframe to an interactive table.\"\n",
              "              style=\"display:none;\">\n",
              "        \n",
              "  <svg xmlns=\"http://www.w3.org/2000/svg\" height=\"24px\"viewBox=\"0 0 24 24\"\n",
              "       width=\"24px\">\n",
              "    <path d=\"M0 0h24v24H0V0z\" fill=\"none\"/>\n",
              "    <path d=\"M18.56 5.44l.94 2.06.94-2.06 2.06-.94-2.06-.94-.94-2.06-.94 2.06-2.06.94zm-11 1L8.5 8.5l.94-2.06 2.06-.94-2.06-.94L8.5 2.5l-.94 2.06-2.06.94zm10 10l.94 2.06.94-2.06 2.06-.94-2.06-.94-.94-2.06-.94 2.06-2.06.94z\"/><path d=\"M17.41 7.96l-1.37-1.37c-.4-.4-.92-.59-1.43-.59-.52 0-1.04.2-1.43.59L10.3 9.45l-7.72 7.72c-.78.78-.78 2.05 0 2.83L4 21.41c.39.39.9.59 1.41.59.51 0 1.02-.2 1.41-.59l7.78-7.78 2.81-2.81c.8-.78.8-2.07 0-2.86zM5.41 20L4 18.59l7.72-7.72 1.47 1.35L5.41 20z\"/>\n",
              "  </svg>\n",
              "      </button>\n",
              "      \n",
              "  <style>\n",
              "    .colab-df-container {\n",
              "      display:flex;\n",
              "      flex-wrap:wrap;\n",
              "      gap: 12px;\n",
              "    }\n",
              "\n",
              "    .colab-df-convert {\n",
              "      background-color: #E8F0FE;\n",
              "      border: none;\n",
              "      border-radius: 50%;\n",
              "      cursor: pointer;\n",
              "      display: none;\n",
              "      fill: #1967D2;\n",
              "      height: 32px;\n",
              "      padding: 0 0 0 0;\n",
              "      width: 32px;\n",
              "    }\n",
              "\n",
              "    .colab-df-convert:hover {\n",
              "      background-color: #E2EBFA;\n",
              "      box-shadow: 0px 1px 2px rgba(60, 64, 67, 0.3), 0px 1px 3px 1px rgba(60, 64, 67, 0.15);\n",
              "      fill: #174EA6;\n",
              "    }\n",
              "\n",
              "    [theme=dark] .colab-df-convert {\n",
              "      background-color: #3B4455;\n",
              "      fill: #D2E3FC;\n",
              "    }\n",
              "\n",
              "    [theme=dark] .colab-df-convert:hover {\n",
              "      background-color: #434B5C;\n",
              "      box-shadow: 0px 1px 3px 1px rgba(0, 0, 0, 0.15);\n",
              "      filter: drop-shadow(0px 1px 2px rgba(0, 0, 0, 0.3));\n",
              "      fill: #FFFFFF;\n",
              "    }\n",
              "  </style>\n",
              "\n",
              "      <script>\n",
              "        const buttonEl =\n",
              "          document.querySelector('#df-1471ccb9-33b1-4231-ab72-74a955cff60e button.colab-df-convert');\n",
              "        buttonEl.style.display =\n",
              "          google.colab.kernel.accessAllowed ? 'block' : 'none';\n",
              "\n",
              "        async function convertToInteractive(key) {\n",
              "          const element = document.querySelector('#df-1471ccb9-33b1-4231-ab72-74a955cff60e');\n",
              "          const dataTable =\n",
              "            await google.colab.kernel.invokeFunction('convertToInteractive',\n",
              "                                                     [key], {});\n",
              "          if (!dataTable) return;\n",
              "\n",
              "          const docLinkHtml = 'Like what you see? Visit the ' +\n",
              "            '<a target=\"_blank\" href=https://colab.research.google.com/notebooks/data_table.ipynb>data table notebook</a>'\n",
              "            + ' to learn more about interactive tables.';\n",
              "          element.innerHTML = '';\n",
              "          dataTable['output_type'] = 'display_data';\n",
              "          await google.colab.output.renderOutput(dataTable, element);\n",
              "          const docLink = document.createElement('div');\n",
              "          docLink.innerHTML = docLinkHtml;\n",
              "          element.appendChild(docLink);\n",
              "        }\n",
              "      </script>\n",
              "    </div>\n",
              "  </div>\n",
              "  "
            ]
          },
          "metadata": {},
          "execution_count": 57
        }
      ]
    },
    {
      "cell_type": "code",
      "source": [
        "data['Actual_amount_orig'] = data.apply(lambda x: x['oldbalanceOrg'] - x['newbalanceOrig'],axis=1)\n",
        "data['Actual_amount_dest'] = data.apply(lambda x: x['oldbalanceDest'] - x['newbalanceDest'],axis=1)\n",
        "data['Transaction_Path'] = data.apply(lambda x: x['nameOrig'] + x['nameDest'],axis=1)\n",
        "\n",
        "#Dropping columns\n",
        "data = data.drop(['oldbalanceOrg','newbalanceOrig','oldbalanceDest','newbalanceDest','step','nameOrig',\n",
        "                  'nameDest','error_orig','error_dest'],axis=1)\n",
        "calc_vif(data)"
      ],
      "metadata": {
        "execution": {
          "iopub.status.busy": "2023-01-02T13:36:11.922335Z",
          "iopub.execute_input": "2023-01-02T13:36:11.923411Z",
          "iopub.status.idle": "2023-01-02T13:38:29.764944Z",
          "shell.execute_reply.started": "2023-01-02T13:36:11.923337Z",
          "shell.execute_reply": "2023-01-02T13:38:29.763347Z"
        },
        "trusted": true,
        "colab": {
          "base_uri": "https://localhost:8080/",
          "height": 269
        },
        "id": "UboVEJ_DwA-s",
        "outputId": "13eaf5e9-1607-43ca-9fd5-15551843c02c"
      },
      "execution_count": 58,
      "outputs": [
        {
          "output_type": "execute_result",
          "data": {
            "text/plain": [
              "            variables       VIF\n",
              "0                type  1.693235\n",
              "1              amount  3.145211\n",
              "2             isFraud  1.300102\n",
              "3      isFlaggedFraud  1.002574\n",
              "4  Actual_amount_orig  1.356664\n",
              "5  Actual_amount_dest  1.243021\n",
              "6    Transaction_Path  2.094893"
            ],
            "text/html": [
              "\n",
              "  <div id=\"df-7b0541bb-d965-407d-94f3-735846d60815\">\n",
              "    <div class=\"colab-df-container\">\n",
              "      <div>\n",
              "<style scoped>\n",
              "    .dataframe tbody tr th:only-of-type {\n",
              "        vertical-align: middle;\n",
              "    }\n",
              "\n",
              "    .dataframe tbody tr th {\n",
              "        vertical-align: top;\n",
              "    }\n",
              "\n",
              "    .dataframe thead th {\n",
              "        text-align: right;\n",
              "    }\n",
              "</style>\n",
              "<table border=\"1\" class=\"dataframe\">\n",
              "  <thead>\n",
              "    <tr style=\"text-align: right;\">\n",
              "      <th></th>\n",
              "      <th>variables</th>\n",
              "      <th>VIF</th>\n",
              "    </tr>\n",
              "  </thead>\n",
              "  <tbody>\n",
              "    <tr>\n",
              "      <th>0</th>\n",
              "      <td>type</td>\n",
              "      <td>1.693235</td>\n",
              "    </tr>\n",
              "    <tr>\n",
              "      <th>1</th>\n",
              "      <td>amount</td>\n",
              "      <td>3.145211</td>\n",
              "    </tr>\n",
              "    <tr>\n",
              "      <th>2</th>\n",
              "      <td>isFraud</td>\n",
              "      <td>1.300102</td>\n",
              "    </tr>\n",
              "    <tr>\n",
              "      <th>3</th>\n",
              "      <td>isFlaggedFraud</td>\n",
              "      <td>1.002574</td>\n",
              "    </tr>\n",
              "    <tr>\n",
              "      <th>4</th>\n",
              "      <td>Actual_amount_orig</td>\n",
              "      <td>1.356664</td>\n",
              "    </tr>\n",
              "    <tr>\n",
              "      <th>5</th>\n",
              "      <td>Actual_amount_dest</td>\n",
              "      <td>1.243021</td>\n",
              "    </tr>\n",
              "    <tr>\n",
              "      <th>6</th>\n",
              "      <td>Transaction_Path</td>\n",
              "      <td>2.094893</td>\n",
              "    </tr>\n",
              "  </tbody>\n",
              "</table>\n",
              "</div>\n",
              "      <button class=\"colab-df-convert\" onclick=\"convertToInteractive('df-7b0541bb-d965-407d-94f3-735846d60815')\"\n",
              "              title=\"Convert this dataframe to an interactive table.\"\n",
              "              style=\"display:none;\">\n",
              "        \n",
              "  <svg xmlns=\"http://www.w3.org/2000/svg\" height=\"24px\"viewBox=\"0 0 24 24\"\n",
              "       width=\"24px\">\n",
              "    <path d=\"M0 0h24v24H0V0z\" fill=\"none\"/>\n",
              "    <path d=\"M18.56 5.44l.94 2.06.94-2.06 2.06-.94-2.06-.94-.94-2.06-.94 2.06-2.06.94zm-11 1L8.5 8.5l.94-2.06 2.06-.94-2.06-.94L8.5 2.5l-.94 2.06-2.06.94zm10 10l.94 2.06.94-2.06 2.06-.94-2.06-.94-.94-2.06-.94 2.06-2.06.94z\"/><path d=\"M17.41 7.96l-1.37-1.37c-.4-.4-.92-.59-1.43-.59-.52 0-1.04.2-1.43.59L10.3 9.45l-7.72 7.72c-.78.78-.78 2.05 0 2.83L4 21.41c.39.39.9.59 1.41.59.51 0 1.02-.2 1.41-.59l7.78-7.78 2.81-2.81c.8-.78.8-2.07 0-2.86zM5.41 20L4 18.59l7.72-7.72 1.47 1.35L5.41 20z\"/>\n",
              "  </svg>\n",
              "      </button>\n",
              "      \n",
              "  <style>\n",
              "    .colab-df-container {\n",
              "      display:flex;\n",
              "      flex-wrap:wrap;\n",
              "      gap: 12px;\n",
              "    }\n",
              "\n",
              "    .colab-df-convert {\n",
              "      background-color: #E8F0FE;\n",
              "      border: none;\n",
              "      border-radius: 50%;\n",
              "      cursor: pointer;\n",
              "      display: none;\n",
              "      fill: #1967D2;\n",
              "      height: 32px;\n",
              "      padding: 0 0 0 0;\n",
              "      width: 32px;\n",
              "    }\n",
              "\n",
              "    .colab-df-convert:hover {\n",
              "      background-color: #E2EBFA;\n",
              "      box-shadow: 0px 1px 2px rgba(60, 64, 67, 0.3), 0px 1px 3px 1px rgba(60, 64, 67, 0.15);\n",
              "      fill: #174EA6;\n",
              "    }\n",
              "\n",
              "    [theme=dark] .colab-df-convert {\n",
              "      background-color: #3B4455;\n",
              "      fill: #D2E3FC;\n",
              "    }\n",
              "\n",
              "    [theme=dark] .colab-df-convert:hover {\n",
              "      background-color: #434B5C;\n",
              "      box-shadow: 0px 1px 3px 1px rgba(0, 0, 0, 0.15);\n",
              "      filter: drop-shadow(0px 1px 2px rgba(0, 0, 0, 0.3));\n",
              "      fill: #FFFFFF;\n",
              "    }\n",
              "  </style>\n",
              "\n",
              "      <script>\n",
              "        const buttonEl =\n",
              "          document.querySelector('#df-7b0541bb-d965-407d-94f3-735846d60815 button.colab-df-convert');\n",
              "        buttonEl.style.display =\n",
              "          google.colab.kernel.accessAllowed ? 'block' : 'none';\n",
              "\n",
              "        async function convertToInteractive(key) {\n",
              "          const element = document.querySelector('#df-7b0541bb-d965-407d-94f3-735846d60815');\n",
              "          const dataTable =\n",
              "            await google.colab.kernel.invokeFunction('convertToInteractive',\n",
              "                                                     [key], {});\n",
              "          if (!dataTable) return;\n",
              "\n",
              "          const docLinkHtml = 'Like what you see? Visit the ' +\n",
              "            '<a target=\"_blank\" href=https://colab.research.google.com/notebooks/data_table.ipynb>data table notebook</a>'\n",
              "            + ' to learn more about interactive tables.';\n",
              "          element.innerHTML = '';\n",
              "          dataTable['output_type'] = 'display_data';\n",
              "          await google.colab.output.renderOutput(dataTable, element);\n",
              "          const docLink = document.createElement('div');\n",
              "          docLink.innerHTML = docLinkHtml;\n",
              "          element.appendChild(docLink);\n",
              "        }\n",
              "      </script>\n",
              "    </div>\n",
              "  </div>\n",
              "  "
            ]
          },
          "metadata": {},
          "execution_count": 58
        }
      ]
    },
    {
      "cell_type": "code",
      "source": [
        "corr=data.corr()\n",
        "plt.figure(figsize=(10,6))\n",
        "sns.heatmap(corr,annot=True)"
      ],
      "metadata": {
        "execution": {
          "iopub.status.busy": "2023-01-02T13:38:29.767436Z",
          "iopub.execute_input": "2023-01-02T13:38:29.768438Z",
          "iopub.status.idle": "2023-01-02T13:38:30.849494Z",
          "shell.execute_reply.started": "2023-01-02T13:38:29.768373Z",
          "shell.execute_reply": "2023-01-02T13:38:30.847026Z"
        },
        "trusted": true,
        "colab": {
          "base_uri": "https://localhost:8080/",
          "height": 487
        },
        "id": "ooLGjuItwA-t",
        "outputId": "90b009d0-677c-4c88-b86b-dcbcf9f66ab9"
      },
      "execution_count": 59,
      "outputs": [
        {
          "output_type": "execute_result",
          "data": {
            "text/plain": [
              "<matplotlib.axes._subplots.AxesSubplot at 0x7f46e51c82b0>"
            ]
          },
          "metadata": {},
          "execution_count": 59
        },
        {
          "output_type": "display_data",
          "data": {
            "text/plain": [
              "<Figure size 720x432 with 2 Axes>"
            ],
            "image/png": "[encoded data removed]"
          },
          "metadata": {
            "needs_background": "light"
          }
        }
      ]
    },
    {
      "cell_type": "markdown",
      "source": [
        "# NORMALIZING (SCALING) AMOUNT"
      ],
      "metadata": {
        "id": "_-Rd6ndiwA-t"
      }
    },
    {
      "cell_type": "code",
      "source": [
        "# Perform Scaling\n",
        "scaler = StandardScaler()\n",
        "data[\"NormalizedAmount\"] = scaler.fit_transform(data[\"amount\"].values.reshape(-1, 1))\n",
        "data.drop([\"amount\"], inplace= True, axis= 1)"
      ],
      "metadata": {
        "execution": {
          "iopub.status.busy": "2023-01-02T13:38:30.850859Z",
          "iopub.execute_input": "2023-01-02T13:38:30.851211Z",
          "iopub.status.idle": "2023-01-02T13:38:31.036895Z",
          "shell.execute_reply.started": "2023-01-02T13:38:30.851180Z",
          "shell.execute_reply": "2023-01-02T13:38:31.035682Z"
        },
        "trusted": true,
        "id": "BvjppLbmwA-u"
      },
      "execution_count": 60,
      "outputs": []
    },
    {
      "cell_type": "markdown",
      "source": [
        "# Select variables to be included in the model\n",
        "\n",
        "Using the VIF values and correlation heatmap. We just need to check if there are any two attributes highly correlated to each other and then drop the one which is less correlated to the isFraud Attribute."
      ],
      "metadata": {
        "id": "eRghEfoywA-u"
      }
    },
    {
      "cell_type": "markdown",
      "source": [
        "# Define dependent and independent variables and then split the data into a training set and testing set."
      ],
      "metadata": {
        "id": "XIp_n8PowA-v"
      }
    },
    {
      "cell_type": "code",
      "source": [
        "X=data.copy()\n",
        "y=X.pop('isFraud')\n",
        "y.value_counts()"
      ],
      "metadata": {
        "execution": {
          "iopub.status.busy": "2023-01-02T13:38:31.038733Z",
          "iopub.execute_input": "2023-01-02T13:38:31.039414Z",
          "iopub.status.idle": "2023-01-02T13:38:31.117237Z",
          "shell.execute_reply.started": "2023-01-02T13:38:31.039377Z",
          "shell.execute_reply": "2023-01-02T13:38:31.116191Z"
        },
        "trusted": true,
        "colab": {
          "base_uri": "https://localhost:8080/"
        },
        "id": "53M_EvX6wA-v",
        "outputId": "dbb5669b-d0d0-4d6c-89c0-31ab373d15de"
      },
      "execution_count": 61,
      "outputs": [
        {
          "output_type": "execute_result",
          "data": {
            "text/plain": [
              "0    2762196\n",
              "1       8213\n",
              "Name: isFraud, dtype: int64"
            ]
          },
          "metadata": {},
          "execution_count": 61
        }
      ]
    },
    {
      "cell_type": "markdown",
      "source": [
        "There is almost a 99% - 0.1% distribution of the Target values which seems data is highly unbalanced\n",
        "To deal with imbalanced data we will use class_weights as this is a finance dataset, because for the finance dataset if use oversampling or undersampling or smote they will create fake data points or duplicate data points, in the financial problems we need accurate information otherwise it will mislead us and we may end up with a bad model."
      ],
      "metadata": {
        "id": "_Fj5ladEwA-v"
      }
    },
    {
      "cell_type": "markdown",
      "source": [
        "# Handling imbalance data"
      ],
      "metadata": {
        "id": "AffFNTjSwA-w"
      }
    },
    {
      "cell_type": "code",
      "source": [
        "#handling imbalance data\n",
        "from imblearn.over_sampling import SMOTE \n",
        "smot = SMOTE(sampling_strategy='minority') \n",
        "X, y = smot.fit_resample(X, y) \n",
        "y.value_counts()"
      ],
      "metadata": {
        "execution": {
          "iopub.status.busy": "2023-01-02T13:38:31.118826Z",
          "iopub.execute_input": "2023-01-02T13:38:31.119152Z",
          "iopub.status.idle": "2023-01-02T13:38:32.619817Z",
          "shell.execute_reply.started": "2023-01-02T13:38:31.119124Z",
          "shell.execute_reply": "2023-01-02T13:38:32.618574Z"
        },
        "trusted": true,
        "colab": {
          "base_uri": "https://localhost:8080/"
        },
        "id": "Ddu31H9PwA-w",
        "outputId": "fe62025a-86c2-41ab-d589-540392d61040"
      },
      "execution_count": 62,
      "outputs": [
        {
          "output_type": "execute_result",
          "data": {
            "text/plain": [
              "1    2762196\n",
              "0    2762196\n",
              "Name: isFraud, dtype: int64"
            ]
          },
          "metadata": {},
          "execution_count": 62
        }
      ]
    },
    {
      "cell_type": "code",
      "source": [
        "# separate dataset into train and test\n",
        "X_train, X_test, y_train, y_test = train_test_split(X,y,test_size=0.2,random_state=42)\n",
        "print('Total no. of samples: Training and Testing dataset separately!')\n",
        "print('X_train:', np.shape(X_train))\n",
        "print('y_train:', np.shape(y_train))\n",
        "print('X_test:', np.shape(X_test))\n",
        "print('y_test:', np.shape(y_test))"
      ],
      "metadata": {
        "execution": {
          "iopub.status.busy": "2023-01-02T13:38:32.625130Z",
          "iopub.execute_input": "2023-01-02T13:38:32.626022Z",
          "iopub.status.idle": "2023-01-02T13:38:34.133271Z",
          "shell.execute_reply.started": "2023-01-02T13:38:32.625984Z",
          "shell.execute_reply": "2023-01-02T13:38:34.131961Z"
        },
        "trusted": true,
        "colab": {
          "base_uri": "https://localhost:8080/"
        },
        "id": "YJytnTXEwA-x",
        "outputId": "ba3e6d15-b864-4715-f40d-9f8662112b30"
      },
      "execution_count": 63,
      "outputs": [
        {
          "output_type": "stream",
          "name": "stdout",
          "text": [
            "Total no. of samples: Training and Testing dataset separately!\n",
            "X_train: (4419513, 6)\n",
            "y_train: (4419513,)\n",
            "X_test: (1104879, 6)\n",
            "y_test: (1104879,)\n"
          ]
        }
      ]
    },
    {
      "cell_type": "markdown",
      "source": [
        "# Model Development and Prediction  "
      ],
      "metadata": {
        "id": "SjgILW8vwA-x"
      }
    },
    {
      "cell_type": "code",
      "source": [
        "regressors = {\n",
        "    \"GaussianNB\": GaussianNB(),\n",
        "    \"LogisticRegression\": LogisticRegression(),\n",
        "    \"RandomForestClassifier\":RandomForestClassifier(n_estimators= 1, criterion=\"entropy\")\n",
        "    }\n",
        "df_models = pd.DataFrame(columns=['model', 'run_time', 'rmse'])\n",
        "for key in regressors:\n",
        "\n",
        "    print('*',key)\n",
        "    start_time = time.time()\n",
        "    regressor = regressors[key]\n",
        "    model = regressor.fit(X_train, y_train)\n",
        "    y_pred = model.predict(X_test)\n",
        "    scores = cross_val_score(model, X_train, y_train,scoring=\"neg_mean_squared_error\", cv=5)\n",
        "    row = {'model': key,\n",
        "           'run_time': format(round((time.time() - start_time)/60,2)),\n",
        "           'rmse': np.sqrt(mean_squared_error(y_test, y_pred)),\n",
        "           'accuracy': np.mean(accuracy_score(y_test,y_pred)),\n",
        "    }\n",
        "\n",
        "    df_models = df_models.append(row, ignore_index=True)"
      ],
      "metadata": {
        "execution": {
          "iopub.status.busy": "2023-01-02T13:38:34.135191Z",
          "iopub.execute_input": "2023-01-02T13:38:34.135601Z",
          "iopub.status.idle": "2023-01-02T13:41:33.624004Z",
          "shell.execute_reply.started": "2023-01-02T13:38:34.135559Z",
          "shell.execute_reply": "2023-01-02T13:41:33.622870Z"
        },
        "trusted": true,
        "colab": {
          "base_uri": "https://localhost:8080/"
        },
        "id": "jO0o75fnwA-x",
        "outputId": "c4a95400-8e36-468c-cf48-1d1e86249da3"
      },
      "execution_count": 64,
      "outputs": [
        {
          "output_type": "stream",
          "name": "stdout",
          "text": [
            "* GaussianNB\n",
            "* LogisticRegression\n",
            "* RandomForestClassifier\n"
          ]
        }
      ]
    },
    {
      "cell_type": "code",
      "source": [
        "df_models.head().sort_values(by='rmse', ascending=True)"
      ],
      "metadata": {
        "execution": {
          "iopub.status.busy": "2023-01-02T13:41:33.625688Z",
          "iopub.execute_input": "2023-01-02T13:41:33.626194Z",
          "iopub.status.idle": "2023-01-02T13:41:33.642600Z",
          "shell.execute_reply.started": "2023-01-02T13:41:33.626147Z",
          "shell.execute_reply": "2023-01-02T13:41:33.641486Z"
        },
        "trusted": true,
        "colab": {
          "base_uri": "https://localhost:8080/",
          "height": 143
        },
        "id": "4JWbnIDawA-y",
        "outputId": "e14fbee1-bc71-4cd4-952c-a737285ccc89"
      },
      "execution_count": 65,
      "outputs": [
        {
          "output_type": "execute_result",
          "data": {
            "text/plain": [
              "                    model run_time      rmse  accuracy\n",
              "2  RandomForestClassifier     2.06  0.182853  0.966565\n",
              "1      LogisticRegression     1.44  0.300039  0.909977\n",
              "0              GaussianNB     0.12  0.433332  0.812224"
            ],
            "text/html": [
              "\n",
              "  <div id=\"df-c8d003ad-7c79-4170-a21c-52a4d25d7e82\">\n",
              "    <div class=\"colab-df-container\">\n",
              "      <div>\n",
              "<style scoped>\n",
              "    .dataframe tbody tr th:only-of-type {\n",
              "        vertical-align: middle;\n",
              "    }\n",
              "\n",
              "    .dataframe tbody tr th {\n",
              "        vertical-align: top;\n",
              "    }\n",
              "\n",
              "    .dataframe thead th {\n",
              "        text-align: right;\n",
              "    }\n",
              "</style>\n",
              "<table border=\"1\" class=\"dataframe\">\n",
              "  <thead>\n",
              "    <tr style=\"text-align: right;\">\n",
              "      <th></th>\n",
              "      <th>model</th>\n",
              "      <th>run_time</th>\n",
              "      <th>rmse</th>\n",
              "      <th>accuracy</th>\n",
              "    </tr>\n",
              "  </thead>\n",
              "  <tbody>\n",
              "    <tr>\n",
              "      <th>2</th>\n",
              "      <td>RandomForestClassifier</td>\n",
              "      <td>2.06</td>\n",
              "      <td>0.182853</td>\n",
              "      <td>0.966565</td>\n",
              "    </tr>\n",
              "    <tr>\n",
              "      <th>1</th>\n",
              "      <td>LogisticRegression</td>\n",
              "      <td>1.44</td>\n",
              "      <td>0.300039</td>\n",
              "      <td>0.909977</td>\n",
              "    </tr>\n",
              "    <tr>\n",
              "      <th>0</th>\n",
              "      <td>GaussianNB</td>\n",
              "      <td>0.12</td>\n",
              "      <td>0.433332</td>\n",
              "      <td>0.812224</td>\n",
              "    </tr>\n",
              "  </tbody>\n",
              "</table>\n",
              "</div>\n",
              "      <button class=\"colab-df-convert\" onclick=\"convertToInteractive('df-c8d003ad-7c79-4170-a21c-52a4d25d7e82')\"\n",
              "              title=\"Convert this dataframe to an interactive table.\"\n",
              "              style=\"display:none;\">\n",
              "        \n",
              "  <svg xmlns=\"http://www.w3.org/2000/svg\" height=\"24px\"viewBox=\"0 0 24 24\"\n",
              "       width=\"24px\">\n",
              "    <path d=\"M0 0h24v24H0V0z\" fill=\"none\"/>\n",
              "    <path d=\"M18.56 5.44l.94 2.06.94-2.06 2.06-.94-2.06-.94-.94-2.06-.94 2.06-2.06.94zm-11 1L8.5 8.5l.94-2.06 2.06-.94-2.06-.94L8.5 2.5l-.94 2.06-2.06.94zm10 10l.94 2.06.94-2.06 2.06-.94-2.06-.94-.94-2.06-.94 2.06-2.06.94z\"/><path d=\"M17.41 7.96l-1.37-1.37c-.4-.4-.92-.59-1.43-.59-.52 0-1.04.2-1.43.59L10.3 9.45l-7.72 7.72c-.78.78-.78 2.05 0 2.83L4 21.41c.39.39.9.59 1.41.59.51 0 1.02-.2 1.41-.59l7.78-7.78 2.81-2.81c.8-.78.8-2.07 0-2.86zM5.41 20L4 18.59l7.72-7.72 1.47 1.35L5.41 20z\"/>\n",
              "  </svg>\n",
              "      </button>\n",
              "      \n",
              "  <style>\n",
              "    .colab-df-container {\n",
              "      display:flex;\n",
              "      flex-wrap:wrap;\n",
              "      gap: 12px;\n",
              "    }\n",
              "\n",
              "    .colab-df-convert {\n",
              "      background-color: #E8F0FE;\n",
              "      border: none;\n",
              "      border-radius: 50%;\n",
              "      cursor: pointer;\n",
              "      display: none;\n",
              "      fill: #1967D2;\n",
              "      height: 32px;\n",
              "      padding: 0 0 0 0;\n",
              "      width: 32px;\n",
              "    }\n",
              "\n",
              "    .colab-df-convert:hover {\n",
              "      background-color: #E2EBFA;\n",
              "      box-shadow: 0px 1px 2px rgba(60, 64, 67, 0.3), 0px 1px 3px 1px rgba(60, 64, 67, 0.15);\n",
              "      fill: #174EA6;\n",
              "    }\n",
              "\n",
              "    [theme=dark] .colab-df-convert {\n",
              "      background-color: #3B4455;\n",
              "      fill: #D2E3FC;\n",
              "    }\n",
              "\n",
              "    [theme=dark] .colab-df-convert:hover {\n",
              "      background-color: #434B5C;\n",
              "      box-shadow: 0px 1px 3px 1px rgba(0, 0, 0, 0.15);\n",
              "      filter: drop-shadow(0px 1px 2px rgba(0, 0, 0, 0.3));\n",
              "      fill: #FFFFFF;\n",
              "    }\n",
              "  </style>\n",
              "\n",
              "      <script>\n",
              "        const buttonEl =\n",
              "          document.querySelector('#df-c8d003ad-7c79-4170-a21c-52a4d25d7e82 button.colab-df-convert');\n",
              "        buttonEl.style.display =\n",
              "          google.colab.kernel.accessAllowed ? 'block' : 'none';\n",
              "\n",
              "        async function convertToInteractive(key) {\n",
              "          const element = document.querySelector('#df-c8d003ad-7c79-4170-a21c-52a4d25d7e82');\n",
              "          const dataTable =\n",
              "            await google.colab.kernel.invokeFunction('convertToInteractive',\n",
              "                                                     [key], {});\n",
              "          if (!dataTable) return;\n",
              "\n",
              "          const docLinkHtml = 'Like what you see? Visit the ' +\n",
              "            '<a target=\"_blank\" href=https://colab.research.google.com/notebooks/data_table.ipynb>data table notebook</a>'\n",
              "            + ' to learn more about interactive tables.';\n",
              "          element.innerHTML = '';\n",
              "          dataTable['output_type'] = 'display_data';\n",
              "          await google.colab.output.renderOutput(dataTable, element);\n",
              "          const docLink = document.createElement('div');\n",
              "          docLink.innerHTML = docLinkHtml;\n",
              "          element.appendChild(docLink);\n",
              "        }\n",
              "      </script>\n",
              "    </div>\n",
              "  </div>\n",
              "  "
            ]
          },
          "metadata": {},
          "execution_count": 65
        }
      ]
    },
    {
      "cell_type": "markdown",
      "source": [
        "# CONCLUSION\n",
        "\n",
        "We have seen that Accuracy of both  Decision Tree is more."
      ],
      "metadata": {
        "id": "wgnOyIxlwA-y"
      }
    },
    {
      "cell_type": "markdown",
      "source": [
        "# ROC Curve\n",
        "Receiver Operating Characteristic(ROC) curve is a plot of the true positive rate against the false positive rate. It shows the tradeoff between sensitivity and specificity."
      ],
      "metadata": {
        "id": "gf9lu8HawA-z"
      }
    },
    {
      "cell_type": "code",
      "source": [
        "RT_model=RandomForestClassifier(n_estimators= 1, criterion=\"entropy\")\n",
        "RT_model.fit(X_train, y_train,)\n",
        "ypred=RT_model.predict(X_test)\n",
        "print(\"Prediction\",ypred)\n",
        "\n",
        "plot_roc_curve(RT_model, X_test, y_test)\n",
        "plt.title('ROC-AUC\\n')\n",
        "plt.show()"
      ],
      "metadata": {
        "execution": {
          "iopub.status.busy": "2023-01-02T13:41:33.644753Z",
          "iopub.execute_input": "2023-01-02T13:41:33.646065Z",
          "iopub.status.idle": "2023-01-02T13:41:55.824201Z",
          "shell.execute_reply.started": "2023-01-02T13:41:33.646012Z",
          "shell.execute_reply": "2023-01-02T13:41:55.823002Z"
        },
        "trusted": true,
        "colab": {
          "base_uri": "https://localhost:8080/",
          "height": 327
        },
        "id": "b-JwA1ZIwA-z",
        "outputId": "dd9c58f7-ea84-450a-b34e-d1885e90a98b"
      },
      "execution_count": 66,
      "outputs": [
        {
          "output_type": "stream",
          "name": "stdout",
          "text": [
            "Prediction [0 1 0 ... 1 1 0]\n"
          ]
        },
        {
          "output_type": "display_data",
          "data": {
            "text/plain": [
              "<Figure size 432x288 with 1 Axes>"
            ],
            "image/png": "[encoded data removed]"
          },
          "metadata": {
            "needs_background": "light"
          }
        }
      ]
    },
    {
      "cell_type": "markdown",
      "source": [
        "We get ROC AUC is 98%.that is best fitted model to predict fraud"
      ],
      "metadata": {
        "id": "hp-1TE7dwA-z"
      }
    },
    {
      "cell_type": "markdown",
      "source": [
        "# Confusion Matrix Evaluation Metrics"
      ],
      "metadata": {
        "id": "ZmhAFLPywA-0"
      }
    },
    {
      "cell_type": "code",
      "source": [
        "plot_confusion_matrix(model, X_test, y_test)\n",
        "plt.title('Confusion Matrix\\n')\n",
        "plt.grid(visible=None)\n",
        "plt.show()"
      ],
      "metadata": {
        "execution": {
          "iopub.status.busy": "2023-01-02T13:41:55.826020Z",
          "iopub.execute_input": "2023-01-02T13:41:55.826803Z",
          "iopub.status.idle": "2023-01-02T13:41:56.727055Z",
          "shell.execute_reply.started": "2023-01-02T13:41:55.826726Z",
          "shell.execute_reply": "2023-01-02T13:41:56.725976Z"
        },
        "trusted": true,
        "colab": {
          "base_uri": "https://localhost:8080/",
          "height": 310
        },
        "id": "eVohTaNDwA-0",
        "outputId": "eff8a2d5-dcec-445a-b1ba-0666672ac070"
      },
      "execution_count": 67,
      "outputs": [
        {
          "output_type": "display_data",
          "data": {
            "text/plain": [
              "<Figure size 432x288 with 2 Axes>"
            ],
            "image/png": "[encoded data removed]"
          },
          "metadata": {
            "needs_background": "light"
          }
        }
      ]
    },
    {
      "cell_type": "markdown",
      "source": [
        "# Evaluate the model using a classification report to obtain an accuracy rate."
      ],
      "metadata": {
        "id": "y4ctiT2dwA-1"
      }
    },
    {
      "cell_type": "code",
      "source": [
        "print(\"Classification Report:\\n\\n\", classification_report(y_test, y_pred))"
      ],
      "metadata": {
        "execution": {
          "iopub.status.busy": "2023-01-02T13:41:56.729122Z",
          "iopub.execute_input": "2023-01-02T13:41:56.729575Z",
          "iopub.status.idle": "2023-01-02T13:41:59.348247Z",
          "shell.execute_reply.started": "2023-01-02T13:41:56.729539Z",
          "shell.execute_reply": "2023-01-02T13:41:59.347196Z"
        },
        "trusted": true,
        "colab": {
          "base_uri": "https://localhost:8080/"
        },
        "id": "i_6WoajXwA-1",
        "outputId": "92c9867f-c8b1-4d48-dd1b-c281b7a36f3e"
      },
      "execution_count": 68,
      "outputs": [
        {
          "output_type": "stream",
          "name": "stdout",
          "text": [
            "Classification Report:\n",
            "\n",
            "               precision    recall  f1-score   support\n",
            "\n",
            "           0       0.97      0.96      0.97    551906\n",
            "           1       0.97      0.97      0.97    552973\n",
            "\n",
            "    accuracy                           0.97   1104879\n",
            "   macro avg       0.97      0.97      0.97   1104879\n",
            "weighted avg       0.97      0.97      0.97   1104879\n",
            "\n"
          ]
        }
      ]
    },
    {
      "cell_type": "markdown",
      "source": [
        "# What are the key factors that predict fraudulent customer?\n",
        "Customer's identity (email addresses, credit card numbers, etc.)\n",
        "Their preferred payment methods,\n",
        "The source of request is secured or not\n",
        "Their network (emails, phone numbers, and payment details entered with the online account),\n",
        "The past order details.\n"
      ],
      "metadata": {
        "id": "l1207PcLwA-1"
      }
    },
    {
      "cell_type": "markdown",
      "source": [
        "# Do these factors make sense? If yes, How? If not, How not?\n",
        "Yes. we close look EDA and we conculde that all selected factors are affected."
      ],
      "metadata": {
        "id": "cpY9VrawwA-2"
      }
    },
    {
      "cell_type": "markdown",
      "source": [
        "# What kind of prevention should be adopted while company update its infrastructure?\n",
        "* Setting the right risk threshold for your business\n",
        "* screen public records of the user that might have been published in a given time period against the applicant\n",
        "* Secure Infrastructure : Secure infrastructure implies the database systems and servers where data is stored and the boundaries established to secure these. Production data is usually encrypted in any core banking system. If required for testing, it is mandatory that important data like bank account number, customer name, and address be masked. Access to production systems is restricted. Vendors who deal with infrastructure are generally different from those who deal with applications. Bank employees are usually given special equipment where access to social websites, personal emails, and USB ports is blocked. Employees can only access the banks’ network over a VPN when using public Wi-Fi.\n",
        "* Secure Processes : Banks have established many processes to ensure that security is implemented and tested. This includes KYC (Know Your Customer) updates for customers, NDA (Non-disclosure agreement) for employees and vendors, securing special zones within the premises and remote data centers.\n",
        "* Continuous Communication : Banks also communicate regularly with consumers on upgrades to systems, the introduction of new authentication procedures, etc., in addition to the periodic account statements that are generated and sent to customers. Customers can also set limits and alerts based on different conditions to ensure that they are informed if any unexpected activity takes place concerning their accounts. While there are multiple channels of communication available, the set-up is flexible to cater to customers’ convenience."
      ],
      "metadata": {
        "id": "MDrDCyp9wA-2"
      }
    },
    {
      "cell_type": "markdown",
      "source": [
        "# Assuming these actions have been implemented, how would you determine if they work?\n",
        "* Bank sending E-statements.\n",
        "* Customers keeping a check of their account activity.\n",
        "* Always keep a log of your payments."
      ],
      "metadata": {
        "id": "L0XABMpbwA-4"
      }
    }
  ]
}